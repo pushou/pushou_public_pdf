{
 "cells": [
  {
   "cell_type": "markdown",
   "metadata": {},
   "source": [
    "# Approche procédurale et approche objet\n",
    "\n",
    "Dans l'approche procédurale (celle que vous avez majoritairement pratiquée jusqu'à présent), on peut distinguer deux domaines séparés:\n",
    "Celui des données (Les variables par exemple) et celui du code (les instructions). Dans ce paradigme une fonction peut interagir avec des données mais les deux ont une vie propre. \n",
    "\n",
    "Dans l'approche objet , les données (qui décrivent l'état de l'objet) et les méthodes (comprendre fonctions dans un objet) sont réunies dans une même entité: un **objet**. \n",
    "\n",
    "\n",
    "\n"
   ]
  },
  {
   "cell_type": "markdown",
   "metadata": {},
   "source": [
    "# Incarner le monde réel par le code.\n",
    "\n",
    "Un objet informatique va essayer d'incarner un objet réel:\n",
    "- Un coussin avec ses couleurs et son degré de fermeté. C'est un objet qui à priori ne contiendra pas de fonction de pilotage.\n",
    "- Un bateau avec sa longueur, sa catégorie (dériveur, ketch...), son gouvernail. Dans ce cas contrairement au coussin qui est un objet inerte un bateau se pilote. Il faudra aussi dans l'objet modéliser son fonctionnement. Chaque action sur l'objet se traduit par un changement d'état: bateau.barre-a-droite(rotation en degré) changera le cap du bateau.\n",
    "- Un avion aura aussi des caractéristiques mais certaines seront cachées: si le système de pilotage autorise un accès à distance à n'importe qui ca fait [un film](https://fr.wikipedia.org/wiki/Bo%C3%AEte_noire_(film)). C'est le principe de l' **encapsulation** : l'objet encapsule les caractéristiques et les comportements dans un même environnement.\n",
    "\n",
    "\n",
    "\n",
    "La modélisation en objet est un point important. On voit bien au travers des exemples ci-dessus que le modélisateur a une large autonomie. Toutes les modélisations ne se valent pas et un minimum de réflexion est à prévoir.\n"
   ]
  },
  {
   "cell_type": "markdown",
   "metadata": {},
   "source": [
    "\n",
    "# Les interactions entre objets\n",
    "\n",
    "## l'héritage\n",
    "\n",
    "\n",
    "- Une autre relation entre deux objets est une relation de type \"parent enfant\". L'objet véhicule est un objet qui peut exister et on peut imaginer que cet objet supporte un attribut \"type de véhicule\" avec des valeurs comme \"voiture\", \"moto\", \"vélo\"... Néanmoins une bicyclette n'a pas grand chose à voir avec un 38 tonnes. Il semble judicieux de préciser notre modélisation : on pourrait avoir un objet  \"véhicules motorisés\" et un objet \"véhicules sans motorisation\" et créer des objets enfants héritant des caractéristiques de leurs objets parents. \"véhicules motorisés\" sera à son tour parent de l'objet \"moto\".\n",
    "- On qualifie souvent la relation d'héritage par \"**est un(e)**\".\n",
    "L'héritage est un type de relation entre objet mais qui n'est pas toujours judicieux car il entraîne un couplage fort entre les objets. \n",
    "\n",
    "\n",
    "## La dépendance\n",
    "\n",
    "C'est une relation unidirectionnelle d'un objet avec un autre. L'objet bricoleur \"tape\" avec l'objet marteau, l'objet chien \"mange\" l'objet \"biscuit\".\n",
    "Remarquez ici que le marteau ne peut pas avoir d'interaction avec le bricoleur et que le biscuit ne peut pas interagir avec le chien. Ces objets subissent une relation asymétrique et sont utilisés par un autre. Il s'agit d'envoyer un message depuis un objet vers un autre objet. \n",
    "Un objet est susceptible d'échanger des informations avec d'autres objets. On peut imaginer un objet \"compte bancaire\" qui va envoyer un message à un autre compte pour le créditer.\n",
    "\n",
    "## L'association\n",
    "\n",
    "Une \"association\" est une relation symétrique entre deux objets. L'objet conducteur conduit l'objet voiture et l'objet voiture est conduit par le conducteur. Le conducteur n'est pas privilégié dans la relation avec la voiture, pas plus que la voiture ne l'est.\n",
    "\n",
    "### L'agrégation et la composition\n",
    "\n",
    "L'agrégation définit une relation qui donne le rôle d'agrégateur à un objet : Un objet livre agrège les objets \"chapitres\". Mais les chapitres peuvent exister sans le livre et on peut décider qu'un chapitre ne fera pas partie d'un livre. \n",
    "La composition est une agrégation avec un couplage fort: L'objet personne **a un** objet coeur.  Aucun des deux ne peut vivre sa vie sans l'autre.\n",
    "\n",
    "\n",
    "\n"
   ]
  },
  {
   "cell_type": "markdown",
   "metadata": {},
   "source": [
    "## Bilan\n",
    "\n",
    "Le développement orienté objet essaye de se rapprocher d'un des \"Graal\" du développement qui est la ré-utilisabilité du code. On cherche à factoriser les lignes de codes et les données manipulées par ces dernières dans des objets qui font sens et qui ont une cohérence. C'est plus facile de maintenir un code qui n'est pas dupliqué et situé dans un seul \"lieu\" cohérent avec son objet.  \n",
    "\n",
    "Dans une entreprise on va externaliser les activités à risques dans une filiale afin d'éviter qu'une activité risquée ou fluctuante ne déstabilise la maison mère. Dans la technologie objet on fait de même:  une fonction de l'objet qui n'est pas stable doit être externalisée dans un autre objet. On cherche un couplage faible afin que chaque objet puisse vivre sa vie indépendamment des autres. \n",
    "  \n",
    "Par exemple quand vous utilisez le \"pipe\" avec une commande de ce type \"cat file.txt|wc -l\" vous avez un couplage fort entre les deux objets commandes. Si le \"cat\" ne fonctionne pas le \"wc\" ne pourra pas compter les lignes et sera affecté directement par l'état fail de l'autre objet. \n",
    "\n",
    "Il est recommandé de ne pas avoir de dépendances fortes entre les objets ou de les limiter.\n",
    "Par exemple l'échange par message avec des files d'attentes permet à un objet d'envoyer son message et de na pas attendre la réponse. "
   ]
  },
  {
   "cell_type": "markdown",
   "metadata": {},
   "source": [
    "## Bien désigner ses objets\n",
    "\n",
    "Il n'est pas évident de créer des systèmes stable mais évolutifs avec des objets. Le débutant a besoin d'expérience et ne doit pas (trop) faillir. \n",
    "\n",
    "Les développeurs expérimentés ont identifié les \"use-cases\" les plus souvent rencontrés et ont élaboré des guides de solutions : les recueils de \"design patterns\". Si vos objets se retrouvent dans une configuration connue dans un tel guide on vous proposera la meilleure solution. \n",
    "Certains \"design patterns\" sont essentiels et très utilisés.\n",
    "L'implémentation d'un \"design pattern\" se fait dans chaque langage et elle varie donc. On conserve l'esprit du DP mais la lettre subit quelques variations en fonction du langage et certains patterns sont plus élégants dans certains langages.\n",
    "\n",
    "Cherchez des exemples de \"design patterns\" et leurs implémentations en Python  (MVC, façade, décorateur, itérateur...) "
   ]
  },
  {
   "cell_type": "markdown",
   "metadata": {},
   "source": [
    "## Conclusions et ouverture\n",
    "\n",
    "L'objet est une technologie utile et utilisée. Ses principes continuent de structurer des outils récents comme Docker qui sépare les données du code.  La vision d'une application Cloud-Native constituée de micro-services évoluant indépendamment est une héritière des concepts objets.    "
   ]
  },
  {
   "cell_type": "markdown",
   "metadata": {},
   "source": [
    "## Exercice:\n",
    "- Proposez des objets héritant des caractéristiques d'un autre objet\n",
    "- Imaginez le moyen avec des commandes bash  de transformer le couplage fort entre cat et wc par un couplage faible. implémentez-le en bash."
   ]
  },
  {
   "cell_type": "markdown",
   "metadata": {},
   "source": [
    "\n",
    "## Polymorphisme \n",
    "\n",
    "\n",
    "Imaginons que nous voulions démarrer nos véhicules en employant l'ordre \"démarre\" que cela soit pour une moto (démarrage au kick), un bateau (démarrage au câble) ou une voiture (démarrage avec une carte).  Nos trois objets vont donc avoir besoin d'une méthode \"démarre\" mais il faudra faire appel ensuite à des méthodes spécialisées dans les objets fils.\n",
    "On parle ici de polymorphisme pour les objets.\n",
    "\n",
    "Il existe aussi un polymorphisme pour les fonctions. Dans ce cas on redéfinit la fonction avec le même nom mais pas les mêmes arguments: quand on appelle la fonction le code avec les bons arguments est choisi à l'exécution.\n",
    "\n",
    "```\n",
    "f_rectangle(Longueur,largeur)\n",
    "f_rectangle(Longueur,largeur,couleur)\n",
    "f_rectangle(Longueur,largeur,couleur,épaisseur_trait)\n",
    "```\n",
    "Nb: ce n'est pas ce qui se fait en Python"
   ]
  },
  {
   "cell_type": "markdown",
   "metadata": {},
   "source": [
    "## Exercice \n",
    "\n",
    "Implémentez en Python trois objets chien, chat, oiseau. Vous appellerez la méthode parle sur chacun de ces objets.   Chaque animal devra s'exprimer sans son langage (\"wouaf\",\"miaou\",\"piou-piou\")"
   ]
  },
  {
   "cell_type": "markdown",
   "metadata": {},
   "source": [
    "\n",
    "## Représentation des objets\n",
    "\n",
    "Avant de programmer il est bon de s'organiser en définissant les objets, leurs données et leurs fonctions souvent à l'aide d'une méthode comme **UML**.\n",
    "\n",
    "On traduira  ensuite parfois automatiquement à l'aide d'outils de \"génie logiciel\" les objets en classes. On cite souvent la voiture comme objet. Les données appelés aussi attributs liées à l'objet voiture pourraient être la marque , la couleur, l'état (démarré, à l'arrêt ..),Vitesse... et des instructions appelées aussi \"**méthodes**\" (voiture.démarre,voiture.freine, voiture.accélère)...\n"
   ]
  },
  {
   "cell_type": "markdown",
   "metadata": {},
   "source": [
    "## Exercice: \n",
    "\n",
    "Réfléchissez et dessinez (avec drawio par exemple) un objet avec ses attributs et ses méthodes. Le formalisme sera le votre. \n",
    "Utilisez ensuite pyreverse (installez pylint pour avoir pyreverse) afin de générer depuis un de vos codes objets un diagramme statique de classes."
   ]
  },
  {
   "cell_type": "markdown",
   "metadata": {},
   "source": [
    "## Génération de schéma UML avec pyverse\n",
    "\n",
    "pyreverse est un utilitaire du package pylint. Il permet de générer les diagrammes de classe. Ceci est un exemple avec pandas:\n",
    "\n",
    "```bash\n",
    "pyreverse -o uml-dataframe.png -p pandasp  -s1 -c pandas.core.frame.DataFrame frame.py\n",
    "\n",
    "```\n",
    "<img src=\"./uml-dataframe.png\" width=\"800\" height=\"400\">\n",
    "\n",
    "\n"
   ]
  }
 ],
 "metadata": {
  "kernelspec": {
   "display_name": "Bash",
   "language": "bash",
   "name": "bash"
  },
  "language_info": {
   "name": "bash"
  },
  "orig_nbformat": 4
 },
 "nbformat": 4,
 "nbformat_minor": 2
}
