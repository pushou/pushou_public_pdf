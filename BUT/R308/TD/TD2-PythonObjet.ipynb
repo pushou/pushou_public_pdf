{
 "cells": [
  {
   "cell_type": "markdown",
   "metadata": {},
   "source": [
    "# Préambule\n",
    "\n",
    "Avant de démarrer ce TD il vous faut regarder les vidéos relatives à l'objet qui sont sur moodle et préparer ce TD.\n"
   ]
  },
  {
   "cell_type": "markdown",
   "metadata": {},
   "source": [
    "# Implémentation de la technologie objet par Python\n",
    "\n",
    "\n",
    "\n",
    "\n",
    "Python dispose d'un modèle objet depuis sa création. Ce modèle est élégant mais à l'instar du langage lui-même certains le trouveront permissif. \n",
    "D'autres comme moi aime l'idée de confiance attachée à ce langage mais ce n'est pas toujours apprécié dans le monde actuel.\n",
    "\n",
    "Tout est objet en Python y compris les types \"builtins\" (int, str...) inclus dans Python. \n",
    "Les classes et leurs instances sont aussi des objets en Python. \n",
    "\n",
    "Un classe peut être considérée comme une usine à instance. Les instances héritent de leur classe. Concrètement si un attribut est recherché sur une instance on va chercher dans le parent qui est la classe de l'instance. Chaque classe ou instance a son propre espace de nommage. Cet espace de nom est caractérisé par le nom de la  classe ou le nom de l'instance.\n",
    "\n",
    "Un attribut c'est une variable ou une fonction attachée à une classe ou une instance.\n",
    "\n",
    "On va créer une classe Enseignement (une classe par convention commence par une majuscule au contraire d'une instance) et ajouter une variable mon_enseignement qui appartient à la classe. "
   ]
  },
  {
   "cell_type": "code",
   "execution_count": 20,
   "metadata": {},
   "outputs": [
    {
     "name": "stdout",
     "output_type": "stream",
     "text": [
      "################################################################################\n",
      "je fais un cours sur Python et l'objet\n",
      "mon_enseignement est une variable de la classe et pourtant l'instance de la classe le trouve dans l'espace de nom de  la classe\n",
      "En fait la résolution de l'attribut échoue dans l'instance elle se poursuit dans la classe grâce à la relation d'héritage entre la classe et l'instance\n"
     ]
    }
   ],
   "source": [
    "from pprint import pprint\n",
    "from typing import Type\n",
    "\n",
    "class Enseignement:\n",
    "    \"\"\" C'est ma classe qui est un objet \"\"\"\n",
    "    mon_enseignement:str = \"je fais un cours sur Python et l'objet\"\n",
    "\n",
    "e = Enseignement()\n",
    "\n",
    "print(80 * '#')\n",
    "print(e.mon_enseignement)\n",
    "print(\"mon_enseignement est une variable de la classe et pourtant l'instance de la classe le trouve dans l'espace de nom de  la classe\")\n",
    "print(\"En fait la résolution de l'attribut échoue dans l'instance elle se poursuit dans la classe grâce à la relation d'héritage entre la classe et l'instance\")\n"
   ]
  },
  {
   "cell_type": "markdown",
   "metadata": {},
   "source": [
    "Pour l'instant ma classe Enseignement ne contient qu'une variable. On va rattacher une fonction à ma classe afin d'ajouter un comportement à la classe.\n",
    "Une fonction rattachée à une classe s'appelle une **méthode**. \n",
    "\n",
    "Les choses ne sont pas néanmoins à leur place. Souvenez-vous qu'en technologie objet dés que quelque chose est variable on le pousse à l'extérieur de la classe.\n",
    "Une méthode ne va pas forcément beaucoup évoluer mais par contre la variable mon enseignement dépend de l'enseignement réalisé. \n",
    "L'externalisation des données contenues par les variables se fait dans les instances de la classe Enseignement.\n",
    "Chaque instance s'appuiera sur les comportements de la classe communs à toutes les instances.\n",
    "\n",
    "Une méthode a pour particularité de recevoir comme premier argument lors de son appel une référence (comprendre pointeur vers l'instance) qui représente la classe elle-même. Ce paramètre est nommé **self** (c'est comme le \"this\" en Java mais là c'est \"self\" (moi-même) qui est peut être plus parlant).\n",
    "\n",
    "Ce paramètre **self** permet à la fonction d'accéder aux variables de l'instance.\n",
    "\n",
    "Il nous manque un élément du Puzzle, comment passer les données à l'instance ? \n",
    "\n",
    "On va se servir d'une fonction spéciale appelé \"initialisateur d'instance\" en Python.\n",
    "\n",
    "On passera à cet initialisateur toutes les variables nécessaires pour personnaliser l'instance. Dans notre exemple précédent c'est la variable mon_enseignement qui est passée en second paramètre. L'instance elle même est passée au travers de self.\n"
   ]
  },
  {
   "cell_type": "code",
   "execution_count": 21,
   "metadata": {},
   "outputs": [
    {
     "name": "stdout",
     "output_type": "stream",
     "text": [
      "{'mon_enseignement': \"je fais un cours sur Python et l'objet\"}\n",
      "{'mon_enseignement': 'je fais un cours sur le réseau'}\n",
      "L'appel de la méthode initialisateur peut être fait autrement\n",
      "Elle est équivalente à 'Enseignement.initialisateur(Enseignement(),mon_enseignement)\n",
      "On passe à la méthode l'instance de la classe Enseignement=self et le contenu de la variable mon_enseignement\n",
      "on vérifie qu'on a bien le même résultat\n",
      "{'mon_enseignement': 'je fais un cours sur le réseau'}\n"
     ]
    }
   ],
   "source": [
    "class Enseignement:\n",
    "    \"\"\" C'est ma classe\"\"\"\n",
    "\n",
    "    def initialisateur(self, mon_enseignement:str)->None:\n",
    "        \"\"\"Cette fonction va permettre de self représente la classe elle-même \"\"\"\n",
    "        self.mon_enseignement:str = mon_enseignement\n",
    "\n",
    "# On va créer une instance de la classe \n",
    "e = Enseignement()\n",
    "\n",
    "# On appelle la méthode initialisateur \n",
    "mon_enseignement:str = \"je fais un cours sur Python et l'objet\"\n",
    "e.initialisateur(mon_enseignement)\n",
    "\n",
    "# On affiche les variables de e. Cette capacité à s'ausculter soi-même s'appelle l'introspection\n",
    "print(vars(e))\n",
    "\n",
    "mon_enseignement = \"je fais un cours sur le réseau\"\n",
    "e.initialisateur(mon_enseignement)\n",
    "print(vars(e))\n",
    "\n",
    "e = Enseignement()\n",
    "print(\"L'appel de la méthode initialisateur peut être fait autrement\")\n",
    "print(\"Elle est équivalente à 'Enseignement.initialisateur(Enseignement(),mon_enseignement)\")\n",
    "print(\"On passe à la méthode l'instance de la classe Enseignement=self et le contenu de la variable mon_enseignement\")\n",
    "Enseignement.initialisateur(e,mon_enseignement)\n",
    "print(\"on vérifie qu'on a bien le même résultat\")\n",
    "print(vars(e))\n"
   ]
  },
  {
   "cell_type": "markdown",
   "metadata": {},
   "source": [
    "## Héritage, composition et agrégation en Python\n",
    "\n",
    "L'héritage correspond à une relation \"**est un**\".\n",
    "L'agrégation correspond à une relation \"**a un**\". La composition est une sorte d'agrégation avec un couplage fort entre les classes.\n",
    "\n",
    "Voyons-en l'implémentation en Python:"
   ]
  },
  {
   "cell_type": "code",
   "execution_count": 22,
   "metadata": {},
   "outputs": [
    {
     "name": "stdout",
     "output_type": "stream",
     "text": [
      "12.4\n"
     ]
    }
   ],
   "source": [
    "# Démo agrégation (l'instance d'enseignement est créé dans l'objet étudiant le couplage entre ces deux objets est donc fort)\n",
    "\n",
    "\n",
    "class Enseignement():\n",
    "    \"\"\" Cette classe définie un  enseignement\"\"\"\n",
    "    def __init__(self, intitule:str, cm:float, td:float, tp:float)->None:\n",
    "        self.sujet:str = intitule\n",
    "        self.cm:float = cm\n",
    "        self.td:float = td\n",
    "        self.tp:float = tp\n",
    "\n",
    "    def calculHeureseqtd(self)->float:\n",
    "        \"\"\" Calcul des heures équivalent TD pour le paiement. Les heures de CM sont payées 1,5 heures équivalent TD\"\"\"\n",
    "        return (self.cm * 1.5 + self.td + self.tp * 0.67)\n",
    "\n",
    "  \n",
    "class Etudiant:\n",
    "    \"\"\" Cette classe définit un étudiant, un des ses attributs est une instance de la classe Enseignement, Si on supprime une instance d'étudiant enseignement \n",
    "        disparaît. C'est un couplage fort du à la composition\"\"\"\n",
    "\n",
    "    def __init__(self, prenom:str, nom: str, annee:str):\n",
    "        self.prenom:str = prenom\n",
    "        self.nom:str = nom\n",
    "        self.annee:str = annee\n",
    "  \n",
    "        # Composition avec l'objet enseignement\n",
    "        self.enseignement: Enseignement = Enseignement(\"Prog Avancée\",2,2,11) # composition\n",
    "\n",
    "    # On va appeler cette méthode sur l'instance étudiant \n",
    "    def totalHeureseqtd(self) -> float:\n",
    "        \"\"\"calcul du total d'heures\"\"\"\n",
    "        return self.enseignement.calculHeureseqtd()\n",
    "  \n",
    "# Création de l'instance de la classe Etudiant qui en interne génère l'instance de la classe enseignement\n",
    "etud = Etudiant('Jean-Marc','Pouchoulon','première')\n",
    "  \n",
    "# Appel de la méthode totalHeureseqtd sur l'instance etud qui appelle la méthode sur l'instance ens\n",
    "print(round(etud.totalHeureseqtd(),1))"
   ]
  },
  {
   "cell_type": "markdown",
   "metadata": {},
   "source": [
    "Passons à un couplage plus faible en passant l'instance d'Enseignement à  l'instance Etudiant lors de son initialisation"
   ]
  },
  {
   "cell_type": "code",
   "execution_count": 23,
   "metadata": {},
   "outputs": [
    {
     "name": "stdout",
     "output_type": "stream",
     "text": [
      "12.4\n"
     ]
    }
   ],
   "source": [
    "# Démo composition (l'instance d'enseignement est créé en dehors de l'objet étudiant le couplage entre ces deux objets est donc lâche )\n",
    "\n",
    "class Enseignement():\n",
    "    \"\"\" Cette classe définie un enseignement\"\"\"\n",
    "\n",
    "    def __init__(self, intitule: str, cm: float, td: float, tp: float):\n",
    "        self.sujet = intitule\n",
    "        self.cm = cm \n",
    "        self.td = td\n",
    "        self.tp = tp\n",
    "\n",
    "    def calculHeureseqtd(self)->float:\n",
    "        \"\"\" Calcul des heures équivalent TD pour le paiement\"\"\"\n",
    "        return (self.cm * 1.5 + self.td + self.tp * 0.67)\n",
    "\n",
    "  \n",
    "class Etudiant:\n",
    "    \"\"\" Cette classe définit un étudiant, un des ses attributs est une instance de la classe Enseignement. Si on supprime une instance d'étudiant enseignement \n",
    "        disparaît. C'est un couplage fort du à la composition\"\"\"\n",
    "\n",
    "    def __init__(self, prenom: str, nom: str, annee: str, enseignement: str):\n",
    "        self.prenom = prenom\n",
    "        self.nom = nom\n",
    "        self.annee = annee\n",
    "  \n",
    "        # Agrégation avec l'objet enseignement passé en paramètre de l'initialisateur de classe \n",
    "        self.enseignement = enseignement\n",
    "\n",
    "  \n",
    "    # On va appeler cette méthode sur étudiant \n",
    "\n",
    "    def totalHeureseqtd(self)->float:\n",
    "        \"\"\"calcul du total d'heures\"\"\"\n",
    "        return self.enseignement.calculHeureseqtd()\n",
    "  \n",
    "ens =  Enseignement(\"Prog Avancée\",2,2,11)\n",
    "etud = Etudiant('Jean-Marc','Pouchoulon','première',ens)\n",
    "\n",
    "  \n",
    "print(round(etud.totalHeureseqtd(),1))\n"
   ]
  },
  {
   "cell_type": "markdown",
   "metadata": {},
   "source": [
    "## Méthodes spéciales\n",
    "\n",
    "Une méthode \"init\" sera présente dans toute vos classes (hormis celle qui hérite de \\_\\_init\\_\\_ d'une autre classe). \n",
    "\n",
    "Cette méthode n'est pas la seule: on parle de méthodes spéciales qui permettent d'implémenter des méthodes courantes comme il en existe sur les objets **builtins** intégrés dans Python.\n",
    "\n",
    "Ces méthodes spéciales (précédées et terminées par deux underscore) permettent de définir des comportements pour la manipulation ou l'introspection sur les instances.\n",
    "Par exemple \\_\\_add\\_\\_ permet de définir comment on va additionner deux instances d'objets. Vous pouvez définir une classe imaginaire (pour les nombres complexes) et au travers de la méthode \\_\\_add\\_\\_ ce cet objet coder le comportement de l'addition de deux instances de la classe imaginaire.\n"
   ]
  },
  {
   "cell_type": "code",
   "execution_count": 24,
   "metadata": {},
   "outputs": [
    {
     "name": "stdout",
     "output_type": "stream",
     "text": [
      "1 + (2*i)\n",
      "3 + (-4*i)\n",
      "4 + (-2*i)\n"
     ]
    }
   ],
   "source": [
    "from numbers import Complex\n",
    "\n",
    "\n",
    "class Complexe():\n",
    "    \"\"\"Cette classe définit un objet nombre complexe et supporte son addition\"\"\"\n",
    "    def __init__(self,reel:float,imaginaire:float) -> None:\n",
    "        self.__reel = reel\n",
    "        self.__imaginaire = imaginaire\n",
    "    \n",
    "    def __add__(self, autre_complexe: complex)-> complex:\n",
    "        return Complexe(self.__reel + autre_complexe.__reel, self.__imaginaire + autre_complexe.__imaginaire)\n",
    "\n",
    "    def __repr__(self) -> str:\n",
    "        return(f\"{self.__reel} + ({self.__imaginaire}*i)\")\n",
    "\n",
    "\n",
    "c1 = Complexe(1,2)\n",
    "c2 = Complexe(3,-4)\n",
    "\n",
    "print(c1)\n",
    "print(c2)\n",
    "print(c1+c2)"
   ]
  },
  {
   "cell_type": "markdown",
   "metadata": {},
   "source": [
    "\n",
    "__repr__ permet de définir comment l'objet se représente.\n",
    "\n",
    "L'initialisateur en Python est donc une méthode spéciale qui s'appelle \\_\\_init\\_\\_. Cette méthode est appelée automatiquement lors de la création de l'instance.\n",
    "\n",
    "\\_\\_len\\_\\_ va permettre de décrire comment calculer la longueur de votre instance.\n",
    "\n",
    "\\_\\_contains\\_\\_ permet de définir si un objet(ici un string) est contenu dans notre objet (ici l'objet est la variable mon_enseignement) \n",
    "\n",
    "Reprenons notre exemple:\n"
   ]
  },
  {
   "cell_type": "code",
   "execution_count": 25,
   "metadata": {},
   "outputs": [
    {
     "name": "stdout",
     "output_type": "stream",
     "text": [
      "{'mon_enseignement': \"je fais un cours sur Python et l'objet\", 'mots': ['je', 'fais', 'un', 'cours', 'sur', 'Python', 'et', \"l'objet\"]}\n"
     ]
    },
    {
     "data": {
      "text/plain": [
       "False"
      ]
     },
     "execution_count": 25,
     "metadata": {},
     "output_type": "execute_result"
    }
   ],
   "source": [
    "class Enseignement:\n",
    "    \"\"\" C'est ma classe\"\"\"\n",
    "\n",
    "    def __init__(self, mon_enseignement:str)->None:\n",
    "        \"\"\"Cette fonction initialise une instance d'enseignement avec une variable et ne renvoie rien\"\"\"\n",
    "        self.mon_enseignement = mon_enseignement\n",
    "        self.mots = self.mon_enseignement.split()\n",
    "\n",
    "    def __repr__(self)->str:\n",
    "        return f\"instance de Enseignement je contient l'attribut de l'instance: {self.mon_enseignement}\"\n",
    "    \n",
    "    def __len__(self)->str:\n",
    "        return len(mon_enseignement)\n",
    "\n",
    "    def __contains__(self, mot:str)->str:\n",
    "        return mot in self.mots\n",
    "\n",
    "# On appelle la méthode __init__ implicitement lors de l'instanciation \n",
    "mon_enseignement:str = \"je fais un cours sur Python et l'objet\"\n",
    "\n",
    "e = Enseignement(mon_enseignement)\n",
    "print(vars(e))\n",
    "repr(e)\n",
    "len(e)\n",
    "'Python' in e\n",
    "'C' in e"
   ]
  },
  {
   "cell_type": "markdown",
   "metadata": {},
   "source": [
    "## Exercices \n",
    "Implémentez la méthode \\_\\_add\\_\\_ afin de pouvoir additionner des enseignements entre eux. L'addition de deux enseignements est définie comme l'addition des heures de CM, TD et TP membre à membre (CM1+CM2,TD1+TD2,TP1+TP2) et la création d'une liste des intitulés. \n"
   ]
  },
  {
   "cell_type": "markdown",
   "metadata": {},
   "source": [
    "## L'heritage de classe\n",
    "\n",
    "Une classe Python hérite forcément de la classe \"Object\" mais comme c'est automatique ce n'est pas la peine de le préciser. Une classe Python peut hériter aussi d'une autre classe:"
   ]
  },
  {
   "cell_type": "code",
   "execution_count": 26,
   "metadata": {},
   "outputs": [
    {
     "name": "stdout",
     "output_type": "stream",
     "text": [
      "instance de Enseignement je contient l'attribut de l'instance: je fais un TP sur Python et l'héritage\n"
     ]
    }
   ],
   "source": [
    "class Enseignement:\n",
    "    \"\"\" C'est ma classe\"\"\"\n",
    "\n",
    "    def __init__(self, mon_enseignement:str)->None:\n",
    "        \"\"\"Cette fonction initialise une instance d'enseignement avec une variable et ne renvoie rien\"\"\"\n",
    "        self.mon_enseignement = mon_enseignement\n",
    "\n",
    "    def __repr__(self)->str:\n",
    "        return(f\"instance de Enseignement je contient l'attribut de l'instance: {self.mon_enseignement}\")\n",
    "\n",
    "\n",
    "class TP(Enseignement):\n",
    "    ...\n",
    "\n",
    "# On appelle la méthode __init__ implicitement lors de l'instanciation \n",
    "mon_enseignement:str = \"je fais un TP sur Python et l'héritage\"\n",
    "\n",
    "\n",
    "tp = TP(mon_enseignement)\n",
    "\n",
    "print(repr(tp))"
   ]
  },
  {
   "cell_type": "markdown",
   "metadata": {},
   "source": [
    "\n",
    "il est intéressant de voir que TravauxPratiques a bien hérité d'Enseignement et que la méthode __repr__ est appelable sur l'instance t qui hérite de la classe travaux pratiques. \n",
    "Mais comme vous le voyez ce n'est pas parfait puisqu'on parle d'\"instance d'Enseignement\" , on va donc redéfinir notre méthode __repr__ dans la classe TP pour afficher qu'on une instance de TP "
   ]
  },
  {
   "cell_type": "code",
   "execution_count": 27,
   "metadata": {},
   "outputs": [
    {
     "name": "stdout",
     "output_type": "stream",
     "text": [
      "instance de TP je contient l'attribut de l'instance: je fais un TP sur Python et l'héritage\n"
     ]
    }
   ],
   "source": [
    "class Enseignement:\n",
    "    \"\"\" C'est ma classe\"\"\"\n",
    "\n",
    "    def __init__(self, mon_enseignement:str)->None:\n",
    "        \"\"\"Cette fonction initialise une instance d'enseignement avec une variable et ne renvoie rien\"\"\"\n",
    "        self.mon_enseignement = mon_enseignement\n",
    "\n",
    "    def __repr__(self)->str:\n",
    "        return(f\"instance de Enseignement je contient l'attribut de l'instance: {self.mon_enseignement}\")\n",
    "\n",
    "\n",
    "class TP(Enseignement):\n",
    "\n",
    "     def __repr__(self)->str:\n",
    "        return(f\"instance de TP je contient l'attribut de l'instance: {self.mon_enseignement}\")\n",
    "\n",
    "# On appelle la méthode __init__ implicitement lors de l'instanciation \n",
    "mon_enseignement:str = \"je fais un TP sur Python et l'héritage\"\n",
    "\n",
    "\n",
    "tp = TP(mon_enseignement)\n",
    "\n",
    "print(repr(tp))"
   ]
  },
  {
   "cell_type": "markdown",
   "metadata": {},
   "source": [
    "### Ordre d'héritage\n",
    "\n",
    "La méthode \\_\\_repr\\_\\_ est bien prise en compte dans l'instance de TP. Python a établi un ordre dans l'héritage des classes. L'instance tp est située avant Enseignement et si elle dispose d'une méthode \\_\\_repr\\_\\_ c'est cette méthode qui va être utilisée. La méthode \\_\\_repr\\_\\_ de la classe enseignement ne sera pas appelée, Python ayant trouvé son bonheur avant de remonter dans l'ordre d'héritage (comme les ACL pour un routeur si une règle \"matche\" on s'arrête là même si il y a ensuite d'autres ACL dans la liste). \n",
    "\n",
    "Si on veut que la méthode \\_\\_repr\\_\\_ de la classe Enseignement soit appelée il faut le dire explicitement à Python via le mot clef super.  \n",
    "\n",
    "L'heritage multiple est possible.\n",
    "\n",
    "Il est important de comprendre son mécanisme quand on appelle un attribut (=variable ou méthode) sur une instance de classe.\n",
    "Outre les TP on peut créer des classes CM et TD qui hériteront de Enseignement. La classe Cours va hériter des CM/TD/TP.\n",
    "\n",
    "Comment la résolution des attributs va-t-elle être impactée ?\n",
    "\n",
    "NB: Les trois points de suspension sont nommés \"ellipsis\" en Python et sont équivalents à l'instruction \"pass\" mais c'est plus joli."
   ]
  },
  {
   "cell_type": "code",
   "execution_count": 2,
   "metadata": {},
   "outputs": [
    {
     "ename": "AttributeError",
     "evalue": "'Cours' object has no attribute 'mon_enseignement'",
     "output_type": "error",
     "traceback": [
      "\u001b[0;31m---------------------------------------------------------------------------\u001b[0m",
      "\u001b[0;31mAttributeError\u001b[0m                            Traceback (most recent call last)",
      "\u001b[1;32m/home/pouchou/ownCloud/formations/DEV/R308/R308-NOTEBOOKS/CM-TD-TP/TD/TD2-PythonObjet.ipynb Cellule 20\u001b[0m in \u001b[0;36m<cell line: 30>\u001b[0;34m()\u001b[0m\n\u001b[1;32m     <a href='vscode-notebook-cell:/home/pouchou/ownCloud/formations/DEV/R308/R308-NOTEBOOKS/CM-TD-TP/TD/TD2-PythonObjet.ipynb#X25sZmlsZQ%3D%3D?line=26'>27</a>\u001b[0m mon_enseignement:\u001b[39mstr\u001b[39m \u001b[39m=\u001b[39m \u001b[39m\"\u001b[39m\u001b[39mje fais un TP sur Python et l\u001b[39m\u001b[39m'\u001b[39m\u001b[39mhéritage\u001b[39m\u001b[39m\"\u001b[39m\n\u001b[1;32m     <a href='vscode-notebook-cell:/home/pouchou/ownCloud/formations/DEV/R308/R308-NOTEBOOKS/CM-TD-TP/TD/TD2-PythonObjet.ipynb#X25sZmlsZQ%3D%3D?line=27'>28</a>\u001b[0m heuresTP:\u001b[39mint\u001b[39m \u001b[39m=\u001b[39m \u001b[39m11\u001b[39m\n\u001b[0;32m---> <a href='vscode-notebook-cell:/home/pouchou/ownCloud/formations/DEV/R308/R308-NOTEBOOKS/CM-TD-TP/TD/TD2-PythonObjet.ipynb#X25sZmlsZQ%3D%3D?line=29'>30</a>\u001b[0m cours \u001b[39m=\u001b[39m Cours(heuresTP,mon_enseignement)\n\u001b[1;32m     <a href='vscode-notebook-cell:/home/pouchou/ownCloud/formations/DEV/R308/R308-NOTEBOOKS/CM-TD-TP/TD/TD2-PythonObjet.ipynb#X25sZmlsZQ%3D%3D?line=30'>31</a>\u001b[0m \u001b[39mprint\u001b[39m(\u001b[39missubclass\u001b[39m(Cours, TP))\n\u001b[1;32m     <a href='vscode-notebook-cell:/home/pouchou/ownCloud/formations/DEV/R308/R308-NOTEBOOKS/CM-TD-TP/TD/TD2-PythonObjet.ipynb#X25sZmlsZQ%3D%3D?line=31'>32</a>\u001b[0m \u001b[39mprint\u001b[39m(\u001b[39misinstance\u001b[39m(cours, Cours))\n",
      "\u001b[1;32m/home/pouchou/ownCloud/formations/DEV/R308/R308-NOTEBOOKS/CM-TD-TP/TD/TD2-PythonObjet.ipynb Cellule 20\u001b[0m in \u001b[0;36mTP.__init__\u001b[0;34m(self, heuresTP, mon_enseignement)\u001b[0m\n\u001b[1;32m     <a href='vscode-notebook-cell:/home/pouchou/ownCloud/formations/DEV/R308/R308-NOTEBOOKS/CM-TD-TP/TD/TD2-PythonObjet.ipynb#X25sZmlsZQ%3D%3D?line=13'>14</a>\u001b[0m \u001b[39mself\u001b[39m\u001b[39m.\u001b[39mheuresTP \u001b[39m=\u001b[39m heuresTP\n\u001b[1;32m     <a href='vscode-notebook-cell:/home/pouchou/ownCloud/formations/DEV/R308/R308-NOTEBOOKS/CM-TD-TP/TD/TD2-PythonObjet.ipynb#X25sZmlsZQ%3D%3D?line=14'>15</a>\u001b[0m \u001b[39m#self.mon_enseignement = mon_enseignement\u001b[39;00m\n\u001b[0;32m---> <a href='vscode-notebook-cell:/home/pouchou/ownCloud/formations/DEV/R308/R308-NOTEBOOKS/CM-TD-TP/TD/TD2-PythonObjet.ipynb#X25sZmlsZQ%3D%3D?line=15'>16</a>\u001b[0m \u001b[39msuper\u001b[39m()\u001b[39m.\u001b[39m\u001b[39m__init__\u001b[39m(\u001b[39mself\u001b[39;49m\u001b[39m.\u001b[39;49mmon_enseignement)\n",
      "\u001b[0;31mAttributeError\u001b[0m: 'Cours' object has no attribute 'mon_enseignement'"
     ]
    }
   ],
   "source": [
    "class Enseignement:\n",
    "    \"\"\" C'est ma classe\"\"\"\n",
    "\n",
    "    def __init__(self, mon_enseignement:str)->None:\n",
    "        \"\"\"Cette fonction initialise une instance d'enseignement avec une variable et ne renvoie rien\"\"\"\n",
    "        self.mon_enseignement: Enseignement = mon_enseignement\n",
    "\n",
    "    def __repr__(self)->str:\n",
    "        return(f\"instance de Enseignement je contient l'attribut de l'instance: {self.mon_enseignement}\")\n",
    "\n",
    "\n",
    "class TP(Enseignement):\n",
    "    def __init__(self, heuresTP, mon_enseignement)->None:\n",
    "        self.heuresTP = heuresTP\n",
    "        self.mon_enseignement = mon_enseignement\n",
    "        super().__init__(self.mon_enseignement)\n",
    "\n",
    "class CM(Enseignement):\n",
    "    ...\n",
    "class TD(Enseignement):\n",
    "    ...\n",
    "class Cours(CM,TD,TP):\n",
    "    ...\n",
    "\n",
    "\n",
    "# On appelle la méthode __init__ implicitement lors de l'instanciation \n",
    "mon_enseignement:str = \"je fais un TP sur Python et l'héritage\"\n",
    "heuresTP:int = 11\n",
    "\n",
    "cours = Cours(heuresTP,mon_enseignement)\n",
    "print(issubclass(Cours, TP))\n",
    "print(isinstance(cours, Cours))\n",
    "print(Cours.__mro__)\n",
    "print(cours.__class__)\n",
    "\n",
    "print(cours.mon_enseignement + f\". J'ai {cours.heuresTP} heures de TP dans ce cours\")\n",
    "\n",
    "\n"
   ]
  },
  {
   "cell_type": "markdown",
   "metadata": {},
   "source": [
    "Expliquez le mécanisme de fonctionnement du code ci-dessus"
   ]
  }
 ],
 "metadata": {
  "kernelspec": {
   "display_name": "Python 3.10.4 64-bit ('3.10.4')",
   "language": "python",
   "name": "python3"
  },
  "language_info": {
   "codemirror_mode": {
    "name": "ipython",
    "version": 3
   },
   "file_extension": ".py",
   "mimetype": "text/x-python",
   "name": "python",
   "nbconvert_exporter": "python",
   "pygments_lexer": "ipython3",
   "version": "3.10.4"
  },
  "orig_nbformat": 4,
  "vscode": {
   "interpreter": {
    "hash": "6127d1fbbe37185a7da7e4da2c9f92f5859708dc5f2c34fc7e63ce95aa67320b"
   }
  }
 },
 "nbformat": 4,
 "nbformat_minor": 2
}
