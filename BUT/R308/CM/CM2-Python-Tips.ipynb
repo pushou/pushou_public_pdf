{
 "cells": [
  {
   "cell_type": "markdown",
   "metadata": {},
   "source": [
    "# Compléments Python \n",
    "\n",
    "Au fil de mon expérience j'ai constaté que très peu de gens utilisent les capacités de Python. C'est le mauvais côté de son image de langage pour débutants: on s'en sert à minima. Pourtant Python incite à une très grande créativité et dispose d'un modèle objet pertinent.\n",
    "\n",
    "Ce document contient des compléments pour un usage plus évolué de Python. Certaines fonctionnalités nécessitent Python 3.7+.\n",
    "\n",
    "Il est recommandé de travailler avec Python 3.10+.\n",
    "\n"
   ]
  },
  {
   "cell_type": "markdown",
   "metadata": {},
   "source": [
    "## Obtenir de l'aide avec Python\n",
    "\n",
    "pypi.org liste la plupart des modules Python et vous permet souvent d'avoir de la documentation et un lien vers le site d'origine.\n",
    "Vous pouvez avoir l'aide de Python avec la commande help ou dir ou juste utiliser le ? sous ipython :\n",
    "\n",
    "\n"
   ]
  },
  {
   "cell_type": "code",
   "execution_count": 1,
   "metadata": {
    "vscode": {
     "languageId": "shellscript"
    }
   },
   "outputs": [
    {
     "name": "stdout",
     "output_type": "stream",
     "text": [
      "Help on built-in function chown in module posix:\n",
      "\n",
      "chown(path, uid, gid, *, dir_fd=None, follow_symlinks=True)\n",
      "    Change the owner and group id of path to the numeric uid and gid.\\\n",
      "    \n",
      "      path\n",
      "        Path to be examined; can be string, bytes, a path-like object, or open-file-descriptor int.\n",
      "      dir_fd\n",
      "        If not None, it should be a file descriptor open to a directory,\n",
      "        and path should be relative; path will then be relative to that\n",
      "        directory.\n",
      "      follow_symlinks\n",
      "        If False, and the last element of the path is a symbolic link,\n",
      "        stat will examine the symbolic link itself instead of the file\n",
      "        the link points to.\n",
      "    \n",
      "    path may always be specified as a string.\n",
      "    On some platforms, path may also be specified as an open file descriptor.\n",
      "      If this functionality is unavailable, using it raises an exception.\n",
      "    If dir_fd is not None, it should be a file descriptor open to a directory,\n",
      "      and path should be relative; path will then be relative to that directory.\n",
      "    If follow_symlinks is False, and the last element of the path is a symbolic\n",
      "      link, chown will modify the symbolic link itself instead of the file the\n",
      "      link points to.\n",
      "    It is an error to use dir_fd or follow_symlinks when specifying path as\n",
      "      an open file descriptor.\n",
      "    dir_fd and follow_symlinks may not be implemented on your platform.\n",
      "      If they are unavailable, using them will raise a NotImplementedError.\n",
      "\n"
     ]
    },
    {
     "name": "stdout",
     "output_type": "stream",
     "text": [
      "\u001b[0;31mType:\u001b[0m        module\n",
      "\u001b[0;31mString form:\u001b[0m <module 'sys' (built-in)>\n",
      "\u001b[0;31mDocstring:\u001b[0m  \n",
      "This module provides access to some objects used or maintained by the\n",
      "interpreter and to functions that interact strongly with the interpreter.\n",
      "\n",
      "Dynamic objects:\n",
      "\n",
      "argv -- command line arguments; argv[0] is the script pathname if known\n",
      "path -- module search path; path[0] is the script directory, else ''\n",
      "modules -- dictionary of loaded modules\n",
      "\n",
      "displayhook -- called to show results in an interactive session\n",
      "excepthook -- called to handle any uncaught exception other than SystemExit\n",
      "  To customize printing in an interactive session or to install a custom\n",
      "  top-level exception handler, assign other functions to replace these.\n",
      "\n",
      "stdin -- standard input file object; used by input()\n",
      "stdout -- standard output file object; used by print()\n",
      "stderr -- standard error object; used for error messages\n",
      "  By assigning other file objects (or objects that behave like files)\n",
      "  to these, it is possible to redirect all of the interpreter's I/O.\n",
      "\n",
      "last_type -- type of last uncaught exception\n",
      "last_value -- value of last uncaught exception\n",
      "last_traceback -- traceback of last uncaught exception\n",
      "  These three are only available in an interactive session after a\n",
      "  traceback has been printed.\n",
      "\n",
      "Static objects:\n",
      "\n",
      "builtin_module_names -- tuple of module names built into this interpreter\n",
      "copyright -- copyright notice pertaining to this interpreter\n",
      "exec_prefix -- prefix used to find the machine-specific Python library\n",
      "executable -- absolute path of the executable binary of the Python interpreter\n",
      "float_info -- a named tuple with information about the float implementation.\n",
      "float_repr_style -- string indicating the style of repr() output for floats\n",
      "hash_info -- a named tuple with information about the hash algorithm.\n",
      "hexversion -- version information encoded as a single integer\n",
      "implementation -- Python implementation information.\n",
      "int_info -- a named tuple with information about the int implementation.\n",
      "maxsize -- the largest supported length of containers.\n",
      "maxunicode -- the value of the largest Unicode code point\n",
      "platform -- platform identifier\n",
      "prefix -- prefix used to find the Python library\n",
      "thread_info -- a named tuple with information about the thread implementation.\n",
      "version -- the version of this interpreter as a string\n",
      "version_info -- version information as a named tuple\n",
      "__stdin__ -- the original stdin; don't touch!\n",
      "__stdout__ -- the original stdout; don't touch!\n",
      "__stderr__ -- the original stderr; don't touch!\n",
      "__displayhook__ -- the original displayhook; don't touch!\n",
      "__excepthook__ -- the original excepthook; don't touch!\n",
      "\n",
      "Functions:\n",
      "\n",
      "displayhook() -- print an object to the screen, and save it in builtins._\n",
      "excepthook() -- print an exception and its traceback to sys.stderr\n",
      "exc_info() -- return thread-safe information about the current exception\n",
      "exit() -- exit the interpreter by raising SystemExit\n",
      "getdlopenflags() -- returns flags to be used for dlopen() calls\n",
      "getprofile() -- get the global profiling function\n",
      "getrefcount() -- return the reference count for an object (plus one :-)\n",
      "getrecursionlimit() -- return the max recursion depth for the interpreter\n",
      "getsizeof() -- return the size of an object in bytes\n",
      "gettrace() -- get the global debug tracing function\n",
      "setdlopenflags() -- set the flags to be used for dlopen() calls\n",
      "setprofile() -- set the global profiling function\n",
      "setrecursionlimit() -- set the max recursion depth for the interpreter\n",
      "settrace() -- set the global debug tracing function\n"
     ]
    }
   ],
   "source": [
    "import os\n",
    "help(os.chown)\n",
    "import sys\n",
    "sys?"
   ]
  },
  {
   "cell_type": "markdown",
   "metadata": {},
   "source": [
    "### Obtenir de l'aide sur une liste"
   ]
  },
  {
   "cell_type": "code",
   "execution_count": 1,
   "metadata": {
    "vscode": {
     "languageId": "shellscript"
    }
   },
   "outputs": [
    {
     "data": {
      "text/plain": [
       "['__add__',\n",
       " '__class__',\n",
       " '__class_getitem__',\n",
       " '__contains__',\n",
       " '__delattr__',\n",
       " '__delitem__',\n",
       " '__dir__',\n",
       " '__doc__',\n",
       " '__eq__',\n",
       " '__format__',\n",
       " '__ge__',\n",
       " '__getattribute__',\n",
       " '__getitem__',\n",
       " '__gt__',\n",
       " '__hash__',\n",
       " '__iadd__',\n",
       " '__imul__',\n",
       " '__init__',\n",
       " '__init_subclass__',\n",
       " '__iter__',\n",
       " '__le__',\n",
       " '__len__',\n",
       " '__lt__',\n",
       " '__mul__',\n",
       " '__ne__',\n",
       " '__new__',\n",
       " '__reduce__',\n",
       " '__reduce_ex__',\n",
       " '__repr__',\n",
       " '__reversed__',\n",
       " '__rmul__',\n",
       " '__setattr__',\n",
       " '__setitem__',\n",
       " '__sizeof__',\n",
       " '__str__',\n",
       " '__subclasshook__',\n",
       " 'append',\n",
       " 'clear',\n",
       " 'copy',\n",
       " 'count',\n",
       " 'extend',\n",
       " 'index',\n",
       " 'insert',\n",
       " 'pop',\n",
       " 'remove',\n",
       " 'reverse',\n",
       " 'sort']"
      ]
     },
     "execution_count": 1,
     "metadata": {},
     "output_type": "execute_result"
    }
   ],
   "source": [
    "maliste=['jmp','fc','yh']                                                                                       \n",
    "dir(maliste)                  "
   ]
  },
  {
   "cell_type": "markdown",
   "metadata": {},
   "source": [
    "### Debug \n",
    "export PYTHONVERBOSE=1 #Obtenir du debug sur le load des packages Python \n",
    "\n",
    "\n",
    "Vous pouvez  utiliser ipython afin de mettre au point vos scripts.\n",
    "\n",
    "La fonction breakpoint() permet de débuguer le code en créant un ... point d'arrêt.\n",
    "\n"
   ]
  },
  {
   "cell_type": "markdown",
   "metadata": {},
   "source": [
    "### Editez depuis ipython"
   ]
  },
  {
   "cell_type": "markdown",
   "metadata": {},
   "source": [
    "Ipython est un interpréteur Python sur-vitaminé. A installer d'office il est essentiel et compris dans Jupyter"
   ]
  },
  {
   "cell_type": "code",
   "execution_count": null,
   "metadata": {
    "vscode": {
     "languageId": "shellscript"
    }
   },
   "outputs": [],
   "source": [
    "\n",
    "ipython\n",
    "%edit monscript.py # Permet d'éditer et d'exécuter un script Python \n",
    "%run monscript.py # Permet d'exécuter un script. Vous pouvez ensuite examiner les variables \n",
    "%run -d -b614 monscript.py  # Debug du script , tapez c + run à la ligne 614\n",
    "\n",
    "\n",
    "\n"
   ]
  },
  {
   "cell_type": "markdown",
   "metadata": {},
   "source": [
    "## Test booléens"
   ]
  },
  {
   "cell_type": "markdown",
   "metadata": {},
   "source": [
    "Comment implémenter (test ? expr1 : expr2) en Python ?\n",
    "On va utiliser résultat = test and expr1 or expr2\n",
    "\n",
    "Si test is True, resultat = expr1. \n",
    "Si test est False, resultat = expr2.\n",
    "Attention: expr1 ne doit pas être Faux"
   ]
  },
  {
   "cell_type": "code",
   "execution_count": 1,
   "metadata": {
    "vscode": {
     "languageId": "shellscript"
    }
   },
   "outputs": [
    {
     "name": "stdout",
     "output_type": "stream",
     "text": [
      "kO\n",
      "Ok\n"
     ]
    }
   ],
   "source": [
    "expr1=\"Ok\"\n",
    "expr2=\"kO\"\n",
    "print(2>3 and expr1 or expr2)\n",
    "print(3>2 and expr1 or expr2 )"
   ]
  },
  {
   "cell_type": "markdown",
   "metadata": {},
   "source": [
    "Ici on  utilise lambda (c'est une fonction mais sans nom ) combinée à notre test"
   ]
  },
  {
   "cell_type": "code",
   "execution_count": 3,
   "metadata": {
    "vscode": {
     "languageId": "shellscript"
    }
   },
   "outputs": [
    {
     "name": "stdout",
     "output_type": "stream",
     "text": [
      "impair\n",
      "pair\n"
     ]
    }
   ],
   "source": [
    "f = lambda x:x%2 and \"impair\" or \"pair\"\n",
    "print(f(15))\n",
    "print(f(40))"
   ]
  },
  {
   "cell_type": "markdown",
   "metadata": {},
   "source": [
    "## Dictionnaires et clefs "
   ]
  },
  {
   "cell_type": "code",
   "execution_count": 2,
   "metadata": {
    "vscode": {
     "languageId": "shellscript"
    }
   },
   "outputs": [
    {
     "ename": "KeyError",
     "evalue": "'clef_absente'",
     "output_type": "error",
     "traceback": [
      "\u001b[0;31m---------------------------------------------------------------------------\u001b[0m",
      "\u001b[0;31mKeyError\u001b[0m                                  Traceback (most recent call last)",
      "\u001b[1;32m/home/pouchou/ownCloud/formations/latex/BUT/but-notebooks/R308/CM-TD-TP/CM/CM2-Python-Tips.ipynb Cellule 5\u001b[0m in \u001b[0;36m<cell line: 2>\u001b[0;34m()\u001b[0m\n\u001b[1;32m      <a href='vscode-notebook-cell:/home/pouchou/ownCloud/formations/latex/BUT/but-notebooks/R308/CM-TD-TP/CM/CM2-Python-Tips.ipynb#ch0000004?line=0'>1</a>\u001b[0m d\u001b[39m=\u001b[39m\u001b[39mdict\u001b[39m()\n\u001b[0;32m----> <a href='vscode-notebook-cell:/home/pouchou/ownCloud/formations/latex/BUT/but-notebooks/R308/CM-TD-TP/CM/CM2-Python-Tips.ipynb#ch0000004?line=1'>2</a>\u001b[0m d[\u001b[39m'\u001b[39;49m\u001b[39mclef_absente\u001b[39;49m\u001b[39m'\u001b[39;49m]\n",
      "\u001b[0;31mKeyError\u001b[0m: 'clef_absente'"
     ]
    }
   ],
   "source": [
    "d=dict()\n",
    "d['clef_absente']"
   ]
  },
  {
   "cell_type": "markdown",
   "metadata": {},
   "source": [
    "Une exception est levée et le programme s'arrête ce qui n'est pas beau convenons en..."
   ]
  },
  {
   "cell_type": "code",
   "execution_count": 1,
   "metadata": {
    "vscode": {
     "languageId": "shellscript"
    }
   },
   "outputs": [
    {
     "name": "stdout",
     "output_type": "stream",
     "text": [
      "valeur par défaut!\n"
     ]
    }
   ],
   "source": [
    "d=dict()\n",
    "d.setdefault('clef_absente','valeur par défaut!')\n",
    "print(d['clef_absente'])"
   ]
  },
  {
   "cell_type": "markdown",
   "metadata": {},
   "source": [
    "On peut aussi sur un get se prémunir d'une clef absente: "
   ]
  },
  {
   "cell_type": "code",
   "execution_count": 2,
   "metadata": {
    "vscode": {
     "languageId": "shellscript"
    }
   },
   "outputs": [
    {
     "name": "stdout",
     "output_type": "stream",
     "text": [
      "valeur si on ne la retrouve pas à partir de la clef\n"
     ]
    }
   ],
   "source": [
    "d=dict()\n",
    "print(d.get('clef_absente','valeur si on ne la retrouve pas à partir de la clef'))\n"
   ]
  },
  {
   "cell_type": "markdown",
   "metadata": {},
   "source": [
    "on peut aussi utiliser le module defaultdict du package collections"
   ]
  },
  {
   "cell_type": "code",
   "execution_count": null,
   "metadata": {
    "vscode": {
     "languageId": "shellscript"
    }
   },
   "outputs": [
    {
     "name": "stdout",
     "output_type": "stream",
     "text": [
      "True\n"
     ]
    }
   ],
   "source": [
    "from collections import defaultdict\n",
    "print(issubclass(defaultdict,dict))\n",
    "defdict=defaultdict(list())"
   ]
  },
  {
   "cell_type": "markdown",
   "metadata": {},
   "source": [
    "Quand la valeur d'une clef est une liste , defaultdict permet de créer cette liste lors de l'instanciation:"
   ]
  },
  {
   "cell_type": "code",
   "execution_count": null,
   "metadata": {
    "vscode": {
     "languageId": "shellscript"
    }
   },
   "outputs": [
    {
     "name": "stdout",
     "output_type": "stream",
     "text": [
      "defaultdict(<class 'list'>,\n",
      "            {'mmi': ['Jean', 'Luc'],\n",
      "             'rt': ['Pierre', 'Morgane', 'Paul', 'paul'],\n",
      "             'tc': ['Patricia', 'Laura']})\n"
     ]
    }
   ],
   "source": [
    "from collections import defaultdict\n",
    "from pprint import PrettyPrinter\n",
    "dep = [('mmi','Jean'),('mmi','Luc'),('tc','Patricia'),('tc','Laura'),('rt','Pierre'),('rt','Morgane'),('rt','Paul'),('rt','Paul')]\n",
    "depd = defaultdict(list)\n",
    "for departement, etudiant in dep:\n",
    "    depd[departement].append(etudiant)\n",
    "pp=PrettyPrinter()\n",
    "pp.pprint(depd)"
   ]
  },
  {
   "cell_type": "markdown",
   "metadata": {},
   "source": [
    "Utilisons un set en lieu et place d'une list (le set est très pratique afin d'éliminer les doublons dans une liste). Remarquons aussi ici l'utilisation de PrettyPrinter pour un meilleur affichage. "
   ]
  },
  {
   "cell_type": "code",
   "execution_count": null,
   "metadata": {
    "vscode": {
     "languageId": "shellscript"
    }
   },
   "outputs": [
    {
     "name": "stdout",
     "output_type": "stream",
     "text": [
      "defaultdict(<class 'list'>,\n",
      "            {'mmi': ['Jean', 'Luc'],\n",
      "             'rt': ['Pierre', 'Morgane', 'Paul', 'Paul'],\n",
      "             'tc': ['Patricia', 'Laura']})\n"
     ]
    }
   ],
   "source": [
    "from collections import defaultdict\n",
    "from pprint import PrettyPrinter\n",
    "dep = [('mmi','Jean'),('mmi','Luc'),('tc','Patricia'),('tc','Laura'),('rt','Pierre'),('rt','Morgane'),('rt','Paul'),('rt','Paul')]\n",
    "# Ca change ici\n",
    "deps = defaultdict(set)\n",
    "for departement, etudiant in dep:\n",
    "    deps[departement].add(etudiant)\n",
    "pp=PrettyPrinter()\n",
    "pp.pprint(depd)"
   ]
  },
  {
   "cell_type": "markdown",
   "metadata": {},
   "source": [
    "Un autre module de collections est Counter qui permet de mettre des compteurs dans son code Python. \n"
   ]
  },
  {
   "cell_type": "code",
   "execution_count": null,
   "metadata": {
    "vscode": {
     "languageId": "shellscript"
    }
   },
   "outputs": [
    {
     "name": "stdout",
     "output_type": "stream",
     "text": [
      "dict_items([('Jean', 1), ('Luc', 1), ('Patricia', 1), ('Laura', 1), ('Pierre', 1), ('Morgane', 1), ('Paul', 2)])\n"
     ]
    }
   ],
   "source": [
    "from collections import defaultdict\n",
    "from pprint import PrettyPrinter\n",
    "from collections import Counter\n",
    "from itertools import chain  \n",
    "dep = [('mmi','Jean'),('mmi','Luc'),('tc','Patricia'),('tc','Laura'),('rt','Pierre'),('rt','Morgane'),('rt','Paul'),('rt','Paul')]\n",
    "depd = defaultdict(list)\n",
    "for departement, etudiant in dep:\n",
    "    depd[departement].append(etudiant)\n",
    "\n",
    "#Mise à plat de la liste\n",
    "compteur=Counter(list(chain.from_iterable(depd.values())))\n",
    "\n",
    "pp=PrettyPrinter()\n",
    "pp.pprint(compteur.items())\n"
   ]
  },
  {
   "cell_type": "markdown",
   "metadata": {},
   "source": [
    "### Opérateurs des sets pour les dictionnaires"
   ]
  },
  {
   "cell_type": "code",
   "execution_count": 11,
   "metadata": {
    "vscode": {
     "languageId": "shellscript"
    }
   },
   "outputs": [
    {
     "name": "stdout",
     "output_type": "stream",
     "text": [
      "{'salle203': 15, 'salle202': 20, 'salle213': 16, 'salle214': 17, 'salle207': 1, 'salle205': 14, 'salle206': 16, 'salle208': 3}\n",
      "{'salle203': 15, 'salle202': 20, 'salle213': 16, 'salle214': 17, 'salle207': 1, 'salle205': 14, 'salle206': 16, 'salle208': 3}\n",
      "set()\n"
     ]
    },
    {
     "ename": "TypeError",
     "evalue": "unsupported operand type(s) for &: 'dict_values' and 'dict_values'",
     "output_type": "error",
     "traceback": [
      "\u001b[0;31m---------------------------------------------------------------------------\u001b[0m",
      "\u001b[0;31mTypeError\u001b[0m                                 Traceback (most recent call last)",
      "\u001b[1;32m/home/pouchou/ownCloud/formations/DEV/R308/R308-NOTEBOOKS/CM-TD-TP/CM/CM2-Python-Tips.ipynb Cellule 30\u001b[0m in \u001b[0;36m<cell line: 14>\u001b[0;34m()\u001b[0m\n\u001b[1;32m     <a href='vscode-notebook-cell:/home/pouchou/ownCloud/formations/DEV/R308/R308-NOTEBOOKS/CM-TD-TP/CM/CM2-Python-Tips.ipynb#Y204sZmlsZQ%3D%3D?line=11'>12</a>\u001b[0m key_intersection\u001b[39m=\u001b[39mdict1\u001b[39m.\u001b[39mkeys() \u001b[39m&\u001b[39m dict2\u001b[39m.\u001b[39mkeys()\n\u001b[1;32m     <a href='vscode-notebook-cell:/home/pouchou/ownCloud/formations/DEV/R308/R308-NOTEBOOKS/CM-TD-TP/CM/CM2-Python-Tips.ipynb#Y204sZmlsZQ%3D%3D?line=12'>13</a>\u001b[0m \u001b[39mprint\u001b[39m(key_intersection)\n\u001b[0;32m---> <a href='vscode-notebook-cell:/home/pouchou/ownCloud/formations/DEV/R308/R308-NOTEBOOKS/CM-TD-TP/CM/CM2-Python-Tips.ipynb#Y204sZmlsZQ%3D%3D?line=13'>14</a>\u001b[0m value_intersection\u001b[39m=\u001b[39mdict1\u001b[39m.\u001b[39;49mvalues() \u001b[39m&\u001b[39;49m dict2\u001b[39m.\u001b[39;49mvalues()\n\u001b[1;32m     <a href='vscode-notebook-cell:/home/pouchou/ownCloud/formations/DEV/R308/R308-NOTEBOOKS/CM-TD-TP/CM/CM2-Python-Tips.ipynb#Y204sZmlsZQ%3D%3D?line=16'>17</a>\u001b[0m \u001b[39m# il y a aussi le +, extend , append \u001b[39;00m\n\u001b[1;32m     <a href='vscode-notebook-cell:/home/pouchou/ownCloud/formations/DEV/R308/R308-NOTEBOOKS/CM-TD-TP/CM/CM2-Python-Tips.ipynb#Y204sZmlsZQ%3D%3D?line=17'>18</a>\u001b[0m liste1\u001b[39m=\u001b[39m\u001b[39mlist\u001b[39m(\u001b[39m'\u001b[39m\u001b[39mazerty\u001b[39m\u001b[39m'\u001b[39m)\n",
      "\u001b[0;31mTypeError\u001b[0m: unsupported operand type(s) for &: 'dict_values' and 'dict_values'"
     ]
    }
   ],
   "source": [
    "\n",
    "dict1={'salle203':15,'salle202':20,'salle213':16,'salle214':17}\n",
    "dict2={'salle207':1,'salle205':14,'salle206':16,'salle208':3}\n",
    "# avant Python 3.8\n",
    "dict_union_avant = {**dict1,**dict2}\n",
    "print(dict_union_avant)\n",
    "\n",
    "# après 3.8\n",
    "\n",
    "dict_union = dict1 | dict2\n",
    "print(dict_union)\n",
    "## intersection des clefs\n",
    "key_intersection=dict1.keys() & dict2.keys()\n",
    "print(key_intersection)\n",
    "value_intersection=dict1.values() & dict2.values()\n",
    "\n",
    "\n",
    "# il y a aussi le +, extend , append \n",
    "liste1=list('azerty')\n",
    "liste2=list('qwerty')\n",
    "liste_union=[*liste1,*liste2]\n",
    "print(liste_union)\n"
   ]
  },
  {
   "cell_type": "markdown",
   "metadata": {},
   "source": [
    "## Strings"
   ]
  },
  {
   "cell_type": "markdown",
   "metadata": {},
   "source": [
    "## Le formattage des strings"
   ]
  },
  {
   "cell_type": "markdown",
   "metadata": {},
   "source": [
    "Un truc très simple pour faire une ligne de dièse:\n"
   ]
  },
  {
   "cell_type": "code",
   "execution_count": null,
   "metadata": {
    "vscode": {
     "languageId": "shellscript"
    }
   },
   "outputs": [
    {
     "name": "stdout",
     "output_type": "stream",
     "text": [
      "##############################################################################################################\n"
     ]
    }
   ],
   "source": [
    "print(110*'#')\n"
   ]
  },
  {
   "cell_type": "markdown",
   "metadata": {},
   "source": [
    "## Copier une liste ou un dictionnaire\n",
    "### Liste"
   ]
  },
  {
   "cell_type": "code",
   "execution_count": null,
   "metadata": {
    "vscode": {
     "languageId": "shellscript"
    }
   },
   "outputs": [
    {
     "name": "stdout",
     "output_type": "stream",
     "text": [
      "c=[1, 6, 3, 4, 5]\n",
      "a=[1, 2, 3, 4, 5]\n",
      "c=[1, 6, 3, 4, 5]\n"
     ]
    }
   ],
   "source": [
    "a = [1, 6, 3, 4, 5]\n",
    "c = a[:]\n",
    "print(\"c=\" + repr(c))\n",
    "a[1]=2\n",
    "print(\"a=\" + repr(a))\n",
    "print(\"c=\" + repr(c))"
   ]
  },
  {
   "cell_type": "markdown",
   "metadata": {},
   "source": [
    "### Dictionnaire\n"
   ]
  },
  {
   "cell_type": "code",
   "execution_count": null,
   "metadata": {
    "vscode": {
     "languageId": "shellscript"
    }
   },
   "outputs": [
    {
     "name": "stdout",
     "output_type": "stream",
     "text": [
      "{'Mathilde': 'petite', 'Clement': 'grand', 'Arnaud': 'moyen'}\n"
     ]
    }
   ],
   "source": [
    "D1 = {'Mathilde': 'petite', 'Clement': 'grand', 'Arnaud': 'moyen'}\n",
    "D2 = D1.copy()\n",
    "print(D2)\n"
   ]
  },
  {
   "cell_type": "markdown",
   "metadata": {},
   "source": []
  },
  {
   "cell_type": "markdown",
   "metadata": {},
   "source": [
    "## cast d'une liste en string"
   ]
  },
  {
   "cell_type": "markdown",
   "metadata": {},
   "source": [
    "Pour passer d'une liste à un string utiliser join:"
   ]
  },
  {
   "cell_type": "code",
   "execution_count": null,
   "metadata": {
    "vscode": {
     "languageId": "shellscript"
    }
   },
   "outputs": [
    {
     "data": {
      "text/plain": [
       "'je+suis+foo+de+Python'"
      ]
     },
     "execution_count": 6,
     "metadata": {},
     "output_type": "execute_result"
    }
   ],
   "source": [
    "\"+\".join(['je','suis','foo','de','Python'])"
   ]
  },
  {
   "cell_type": "markdown",
   "metadata": {},
   "source": [
    "## Affichage des strings"
   ]
  },
  {
   "cell_type": "markdown",
   "metadata": {},
   "source": [
    "Pour faire du templating on peut utiliser format"
   ]
  },
  {
   "cell_type": "code",
   "execution_count": null,
   "metadata": {
    "vscode": {
     "languageId": "shellscript"
    }
   },
   "outputs": [
    {
     "data": {
      "text/plain": [
       "'pouchou est le le meilleur'"
      ]
     },
     "execution_count": 8,
     "metadata": {},
     "output_type": "execute_result"
    }
   ],
   "source": [
    "\"{} est le {}\".format('pouchou','le meilleur')"
   ]
  },
  {
   "cell_type": "markdown",
   "metadata": {},
   "source": [
    "On a encore mieux avec les f-strings :"
   ]
  },
  {
   "cell_type": "code",
   "execution_count": null,
   "metadata": {
    "vscode": {
     "languageId": "shellscript"
    }
   },
   "outputs": [
    {
     "data": {
      "text/plain": [
       "\"Le prof s'appelle pouchou et son age est de 74 ans.\""
      ]
     },
     "execution_count": 14,
     "metadata": {},
     "output_type": "execute_result"
    }
   ],
   "source": [
    "prof = {'nom': 'pouchou', 'age': 74}\n",
    "f\"Le prof s'appelle {prof['nom']} et son age est de {prof['age']} ans.\""
   ]
  },
  {
   "cell_type": "code",
   "execution_count": null,
   "metadata": {
    "vscode": {
     "languageId": "shellscript"
    }
   },
   "outputs": [],
   "source": []
  },
  {
   "cell_type": "markdown",
   "metadata": {},
   "source": [
    "En Python 3.8 on a une notation encore plus claire  source (https://www.docstring.fr/blog/les-nouveautes-de-python-38/)"
   ]
  },
  {
   "cell_type": "code",
   "execution_count": null,
   "metadata": {
    "vscode": {
     "languageId": "shellscript"
    }
   },
   "outputs": [
    {
     "name": "stdout",
     "output_type": "stream",
     "text": [
      "x=5, y=2, z=4\n"
     ]
    }
   ],
   "source": [
    "def coordinates(x, y, z, /):\n",
    "    return f\"{x=}, {y=}, {z=}\"\n",
    "\n",
    "print(coordinates(5, 2, 4))\n"
   ]
  },
  {
   "cell_type": "markdown",
   "metadata": {},
   "source": [
    "## F-STRING FORMAT DATES\n"
   ]
  },
  {
   "cell_type": "code",
   "execution_count": null,
   "metadata": {
    "vscode": {
     "languageId": "shellscript"
    }
   },
   "outputs": [
    {
     "name": "stdout",
     "output_type": "stream",
     "text": [
      "2022-04-06\n",
      "2022\n"
     ]
    }
   ],
   "source": [
    "# source https://martinheinz.dev/blog/70\n",
    "import datetime\n",
    "today = datetime.datetime.today()\n",
    "print(f\"{today:%Y-%m-%d}\")\n",
    "# 2022-03-11\n",
    "print(f\"{today:%Y}\")\n",
    "# 2022"
   ]
  },
  {
   "cell_type": "code",
   "execution_count": null,
   "metadata": {
    "vscode": {
     "languageId": "shellscript"
    }
   },
   "outputs": [
    {
     "name": "stdout",
     "output_type": "stream",
     "text": [
      "John Doe\n",
      "John Doe\n",
      "User's name is: John Doe\n"
     ]
    }
   ],
   "source": [
    "# source https://martinheinz.dev/blog/70\n",
    "class User:\n",
    "    def __init__(self, first_name, last_name):\n",
    "        self.first_name = first_name\n",
    "        self.last_name = last_name\n",
    "\n",
    "    def __str__(self):\n",
    "        return f\"{self.first_name} {self.last_name}\"\n",
    "\n",
    "    def __repr__(self):\n",
    "        return f\"User's name is: {self.first_name} {self.last_name}\"\n",
    "\n",
    "user = User(\"John\", \"Doe\")\n",
    "print(f\"{user}\")\n",
    "# John Doe\n",
    "print(f\"{user!r}\")"
   ]
  },
  {
   "cell_type": "markdown",
   "metadata": {},
   "source": [
    "### plus vite que les autres"
   ]
  },
  {
   "cell_type": "code",
   "execution_count": null,
   "metadata": {
    "vscode": {
     "languageId": "shellscript"
    }
   },
   "outputs": [
    {
     "name": "stdout",
     "output_type": "stream",
     "text": [
      "Hello World\n",
      "Hello World\n",
      "Hello World\n",
      "Hello World\n",
      "Hello World\n",
      "Hello World\n"
     ]
    }
   ],
   "source": [
    "# source https://martinheinz.dev/blog/70\n",
    "# python -m timeit -s 'x, y = \"Hello\", \"World\"' 'f\"{x} {y}\"'\n",
    "from string import Template\n",
    "\n",
    "x, y = \"Hello\", \"World\"\n",
    "\n",
    "print(f\"{x} {y}\")  # 39.6 nsec per loop - Fast!\n",
    "print(x + \" \" + y)  # 43.5 nsec per loop\n",
    "print(\" \".join((x, y)))  # 58.1 nsec per loop\n",
    "print(\"%s %s\" % (x, y))  # 103 nsec per loop\n",
    "print(\"{} {}\".format(x, y))  # 141 nsec per loop\n",
    "print(Template(\"$x $y\").substitute(x=x, y=y))  # 1.24 usec per loop - Slow!"
   ]
  },
  {
   "cell_type": "markdown",
   "metadata": {},
   "source": [
    "### repr"
   ]
  },
  {
   "cell_type": "code",
   "execution_count": null,
   "metadata": {
    "vscode": {
     "languageId": "shellscript"
    }
   },
   "outputs": [
    {
     "name": "stdout",
     "output_type": "stream",
     "text": [
      "  hello world  \n",
      "1,234,567,890\n",
      "00000123\n"
     ]
    }
   ],
   "source": [
    "# source https://martinheinz.dev/blog/70\n",
    "text = \"hello world\"\n",
    "\n",
    "# Center text:\n",
    "print(f\"{text:^15}\")\n",
    "# '  hello world  '\n",
    "\n",
    "number = 1234567890\n",
    "# Set separator\n",
    "print(f\"{number:,}\")\n",
    "# 1,234,567,890\n",
    "\n",
    "number = 123\n",
    "# Add leading zeros\n",
    "print(f\"{number:08}\")\n",
    "# 00000123"
   ]
  },
  {
   "cell_type": "markdown",
   "metadata": {},
   "source": [
    "### F-STRINGS imbriqués "
   ]
  },
  {
   "cell_type": "code",
   "execution_count": null,
   "metadata": {
    "vscode": {
     "languageId": "shellscript"
    }
   },
   "outputs": [
    {
     "name": "stdout",
     "output_type": "stream",
     "text": [
      "output:     42.1\n"
     ]
    }
   ],
   "source": [
    "# source https://martinheinz.dev/blog/70\n",
    "import decimal\n",
    "width = 8\n",
    "precision = 3\n",
    "value = decimal.Decimal(\"42.12345\")\n",
    "print(f\"output: {value:{width}.{precision}}\")"
   ]
  },
  {
   "cell_type": "code",
   "execution_count": null,
   "metadata": {
    "vscode": {
     "languageId": "shellscript"
    }
   },
   "outputs": [
    {
     "name": "stdout",
     "output_type": "stream",
     "text": [
      "Result: 42.1\n",
      "Result:      142\n"
     ]
    }
   ],
   "source": [
    "# source https://martinheinz.dev/blog/70\n",
    "import decimal\n",
    "value = decimal.Decimal(\"42.12345\")\n",
    "print(f'Result: {value:{\"4.3\" if value < 100 else \"8.3\"}}')\n",
    "# Result: 42.1\n",
    "value = decimal.Decimal(\"142.12345\")\n",
    "print(f'Result: {value:{\"4.2\" if value < 100 else \"8.3\"}}')\n",
    "# Result:      142"
   ]
  },
  {
   "cell_type": "markdown",
   "metadata": {},
   "source": [
    "### F-STRINGS formattage conditionnel"
   ]
  },
  {
   "cell_type": "code",
   "execution_count": null,
   "metadata": {
    "vscode": {
     "languageId": "shellscript"
    }
   },
   "outputs": [
    {
     "name": "stdout",
     "output_type": "stream",
     "text": [
      "Result: 42.1\n",
      "Result:      142\n"
     ]
    }
   ],
   "source": [
    "import decimal\n",
    "value = decimal.Decimal(\"42.12345\")\n",
    "print(f'Result: {value:{\"4.3\" if value < 100 else \"8.3\"}}')\n",
    "# Result: 42.1\n",
    "value = decimal.Decimal(\"142.12345\")\n",
    "print(f'Result: {value:{\"4.2\" if value < 100 else \"8.3\"}}')"
   ]
  },
  {
   "cell_type": "markdown",
   "metadata": {},
   "source": [
    "### F-STRINGS et Lambda"
   ]
  },
  {
   "cell_type": "code",
   "execution_count": null,
   "metadata": {
    "vscode": {
     "languageId": "shellscript"
    }
   },
   "outputs": [],
   "source": [
    "# source https://martinheinz.dev/blog/70\n",
    "print(f\"{(lambda x: x**2)(3)}\")"
   ]
  },
  {
   "cell_type": "markdown",
   "metadata": {},
   "source": [
    "## Les tuples "
   ]
  },
  {
   "cell_type": "markdown",
   "metadata": {},
   "source": [
    "Les tuples servent à stocker des listes d'objets mais sont immutables. Le cas d'utilisation typique est une liste qui ne va pas bouger dans le temps:"
   ]
  },
  {
   "cell_type": "code",
   "execution_count": null,
   "metadata": {
    "vscode": {
     "languageId": "shellscript"
    }
   },
   "outputs": [
    {
     "name": "stdout",
     "output_type": "stream",
     "text": [
      "('lundi', 'mardi', 'mercredi', 'jeudi', 'vendredi', 'samedi', 'dimanche')\n"
     ]
    }
   ],
   "source": [
    "semaine=('lundi','mardi','mercredi','jeudi','vendredi','samedi','dimanche')\n",
    "print(semaine)"
   ]
  },
  {
   "cell_type": "code",
   "execution_count": null,
   "metadata": {
    "vscode": {
     "languageId": "shellscript"
    }
   },
   "outputs": [
    {
     "name": "stdout",
     "output_type": "stream",
     "text": [
      "lundi\n"
     ]
    }
   ],
   "source": [
    "print(semaine[0])"
   ]
  },
  {
   "cell_type": "markdown",
   "metadata": {},
   "source": [
    "## namedTuple"
   ]
  },
  {
   "cell_type": "markdown",
   "metadata": {},
   "source": [
    "* Les namedTuple sont intéressants pour créer facilement des objets à partir de fichier à valeurs fixes comme csv(). \n",
    "Téléchargeons la liste des victimes du titanic. Il s'agit d'un fichier au format csv avec les éléments suivants:\n",
    "\n",
    "colonne = [ID, survécu, Class, Age, N_fs, N_pe, tarif, port, genre] \n",
    "- ID :Identifiant du passager \n",
    "- survécu :Si le passager à survécu (0 = non, 1 = oui)\n",
    "- Class :Passenger Class (1 = 1st; 2 = 2nd; 3 = 3rd) \n",
    "- Age :Age ('Nan' remplacé par l'age median) \n",
    "- N_fs :Nombre de freres, soeurs, epouse et mari à bord \n",
    "- N_pe :Nombre de parents enfants à bords Tarif tarif du passager ('Nan' remplacé par tarif median) \n",
    "- port :Port d'embarquement (0 = Cherbourg; 1 = Queenstown; 2 = Southampton) \n",
    "- genre :Genre du passager (0 = femme, 1 = homme)\n",
    "  "
   ]
  },
  {
   "cell_type": "code",
   "execution_count": null,
   "metadata": {
    "vscode": {
     "languageId": "shellscript"
    }
   },
   "outputs": [
    {
     "name": "stdout",
     "output_type": "stream",
     "text": [
      "L' ID du passager est 1 , son nom \"Braund, Mr. Owen Harris\" et est agé de 22 ans\n"
     ]
    }
   ],
   "source": [
    "import requests\n",
    "from collections import namedtuple\n",
    "\n",
    "\n",
    "\n",
    "titanic_url='https://gist.githubusercontent.com/pushou/b0fabc7ca78b3e98503ab8b0e4c33105/raw/fa71405126017e6a37bea592440b4bee94bf7b9e/titanic.csv'\n",
    "r = requests.get(titanic_url).text\n",
    "\n",
    "# La structure est la suivante\n",
    "champs=['PassengerId', 'Survived', 'Pclass', 'Name', 'Sex', 'Age', 'SibSp',\n",
    "  'Parch', 'Ticket', 'Fare', 'Cabin', 'Embarked']\n",
    "Passagers= list()\n",
    "\n",
    "# créons le NamedTuple\n",
    "\n",
    "class Passager(namedtuple('Passager',champs)):\n",
    "    __slots__ = ()\n",
    "\n",
    "    def __str__(self):\n",
    "        return  f\"L' ID du passager est {self.PassengerId} , son nom {self.Name} et est agé de {self.Age} ans\"\n",
    "\n",
    "for donnee in r.splitlines():\n",
    "    donnee=donnee.split(',')\n",
    "    if donnee[0] == 'PassengerId':\n",
    "        continue\n",
    "    \n",
    "    try:\n",
    "        Passagers.append(Passager(\n",
    "                            PassengerId = donnee[0],\n",
    "                            Survived = donnee[1],\n",
    "                            Pclass = donnee[2], \n",
    "                            Name = donnee[3] + ',' + donnee[4],\n",
    "                            Sex = donnee[5], \n",
    "                            Age = donnee[6], \n",
    "                            SibSp = donnee[7],\n",
    "                            Parch = donnee[8], \n",
    "                            Ticket = donnee[9], \n",
    "                            Fare = donnee[10], \n",
    "                            Cabin = donnee[11], \n",
    "                            Embarked =donnee[12]             \n",
    "                )\n",
    "        )\n",
    "        \n",
    "    except IndexError as IE:\n",
    "        pass\n",
    "    finally:\n",
    "        pass\n",
    "print(Passagers[0])"
   ]
  },
  {
   "cell_type": "markdown",
   "metadata": {},
   "source": [
    "On peut aussi utiliser dans même but les dataclass depuis Python 3.7."
   ]
  },
  {
   "cell_type": "code",
   "execution_count": null,
   "metadata": {
    "vscode": {
     "languageId": "shellscript"
    }
   },
   "outputs": [],
   "source": [
    "import requests\n",
    "from dataclasses import dataclass\n",
    "\n",
    "\n",
    "\n",
    "titanic_url='https://gist.githubusercontent.com/pushou/b0fabc7ca78b3e98503ab8b0e4c33105/raw/fa71405126017e6a37bea592440b4bee94bf7b9e/titanic.csv'\n",
    "r = requests.get(titanic_url).text\n",
    "\n",
    "Passagers= list()\n",
    "\n",
    "# créons une dataclass\n",
    "\n",
    "@dataclass\n",
    "class Passager():\n",
    "   PassengerId: str\n",
    "   Survived: str\n",
    "   Pclass: str\n",
    "   Name: str\n",
    "   Sex: str\n",
    "   SibSp: str\n",
    "   Parch: str\n",
    "   Ticket: str\n",
    "   Fare: str\n",
    "   Cabin: str\n",
    "   Embarked:str\n",
    "   Age: int = 0\n",
    "\n",
    "   def __str__(self):\n",
    "        return  f\"L' ID du passager est {self.PassengerId} , son nom {self.Name} et est agé de {self.Age} ans\"\n",
    "\n",
    "for donnee in r.splitlines():\n",
    "    donnee=donnee.split(',')\n",
    "    if donnee[0] == 'PassengerId':\n",
    "        continue\n",
    "    \n",
    "    try:\n",
    "        Passagers.append(Passager(\n",
    "                            PassengerId = donnee[0],\n",
    "                            Survived = donnee[1],\n",
    "                            Pclass = donnee[2], \n",
    "                            Name = donnee[3] + ',' + donnee[4],\n",
    "                            Sex = donnee[5], \n",
    "                            SibSp = donnee[7],\n",
    "                            Parch = donnee[8], \n",
    "                            Ticket = donnee[9], \n",
    "                            Fare = donnee[10], \n",
    "                            Cabin = donnee[11], \n",
    "                            Embarked =donnee[12],          \n",
    "                            Age = donnee[6] \n",
    "                )\n",
    "        )\n",
    "        \n",
    "    except IndexError as IE:\n",
    "        pass\n",
    "    finally:\n",
    "        pass\n",
    "print(Passagers[0])\n",
    "print(Passagers[0].Sex)"
   ]
  },
  {
   "cell_type": "markdown",
   "metadata": {},
   "source": [
    "## Opérateurs Morse (Walrus)\n"
   ]
  },
  {
   "cell_type": "code",
   "execution_count": null,
   "metadata": {
    "vscode": {
     "languageId": "shellscript"
    }
   },
   "outputs": [],
   "source": [
    "#!/usr/bin/env python3\n",
    "# -*- coding: utf-8 -*-\n",
    "# https://callicode.fr/pydefis/Herculito10Boeufs/txt\n",
    "# => S:150 (Blancs:37 Roux:50 Noirs:63)\n",
    "\n",
    "b=0\n",
    "while b<1000:\n",
    "  r=b+1\n",
    "  while r<1000:\n",
    "    n=r+1\n",
    "    while n<1000:\n",
    "      p=b*r*n;\n",
    "      s=b+r+n;\n",
    "      if s*777==p:\n",
    "        print(\"S:{} (Blancs:{} Roux:{} Noirs:{})\".format(s,b,r,n))\n",
    "        if n<2*b:\n",
    "          print(\"Trouve!\")\n",
    "          break\n",
    "      n+=1\n",
    "    r+=1\n",
    "  b+=1\n",
    "\n",
    "\n",
    "\n"
   ]
  },
  {
   "cell_type": "code",
   "execution_count": null,
   "metadata": {
    "vscode": {
     "languageId": "shellscript"
    }
   },
   "outputs": [],
   "source": [
    "Même code avec l'opérateur (On affecte la variable et on teste en même temps) et F-string"
   ]
  },
  {
   "cell_type": "code",
   "execution_count": null,
   "metadata": {
    "vscode": {
     "languageId": "shellscript"
    }
   },
   "outputs": [],
   "source": [
    "b=0\n",
    "while b<1000:\n",
    "  r=b+1\n",
    "  while r<1000:\n",
    "    n=r+1\n",
    "    while n<1000:\n",
    "      # Utilisation de l'opérateur Morse (Walrus operator) \n",
    "      if (s:=b+r+n)*777==(p:=b*r*n):\n",
    "        # Utilisation des F-strings\n",
    "        print(F\"S:{s} (Blancs:{b} Roux:{r} Noirs:{n})\")\n",
    "        if n<2*b:\n",
    "          print(\"Trouve!\")\n",
    "          break\n",
    "      n+=1\n",
    "    r+=1"
   ]
  },
  {
   "cell_type": "markdown",
   "metadata": {},
   "source": [
    "### Utilisation de morse dans les \"list comprehension\"\n",
    "source https://www.stat4decision.com/fr/operateur-morse-python-3-8/"
   ]
  },
  {
   "cell_type": "code",
   "execution_count": null,
   "metadata": {
    "vscode": {
     "languageId": "shellscript"
    }
   },
   "outputs": [],
   "source": [
    "liste_init = [\"Python\",\"PEP\",\"conda\"] \n",
    "liste_filtree = [x.upper() for x in liste_init if \"P\" in x.upper()]                                                                                            # avec morse                                                                         \n",
    "liste_filtree = [y for x in liste_init if \"P\" in (y:=x.upper())]                                                                                                    \n",
    "\n"
   ]
  },
  {
   "cell_type": "markdown",
   "metadata": {},
   "source": [
    "### Utilisation de Morse avec la lecture d'un fichier\n"
   ]
  },
  {
   "cell_type": "code",
   "execution_count": null,
   "metadata": {
    "vscode": {
     "languageId": "shellscript"
    }
   },
   "outputs": [],
   "source": [
    "fichier_python = open(\"python.txt\")\n",
    "# on fait une boucle sur les lignes jusqu'à\n",
    "# trouver le mot python\n",
    "while line := fichier_python.readline():\n",
    "    if \"python\" in line:\n",
    "        print(\"On a trouvé python\") \n",
    "        break"
   ]
  },
  {
   "cell_type": "markdown",
   "metadata": {},
   "source": [
    "### Utilisation de Morse sur une fonction"
   ]
  },
  {
   "cell_type": "code",
   "execution_count": null,
   "metadata": {
    "vscode": {
     "languageId": "shellscript"
    }
   },
   "outputs": [],
   "source": [
    "def demoArg(*positionnels : tuple, **nommes :dict) -> str:\n",
    "    print(type(positionnels))\n",
    "    print(type(nommes))\n",
    "    return f\"{positionnels=},{nommes=}\"\n",
    " \n",
    "print(result:=demoArg('un','deux','trois'))\n",
    "print('#'*80)\n",
    "print(result:=demoArg('un','deux','trois',a='un',b='deux',c='trois'))"
   ]
  },
  {
   "cell_type": "markdown",
   "metadata": {},
   "source": [
    "## Argument positionnel seulement\n",
    "source https://realpython.com/lessons/positional-only-arguments/\n",
    "On peut forcer la présence obligatoire d'argument positionnel lors de l'appel"
   ]
  },
  {
   "cell_type": "code",
   "execution_count": null,
   "metadata": {
    "vscode": {
     "languageId": "shellscript"
    }
   },
   "outputs": [
    {
     "ename": "TypeError",
     "evalue": "greet() got some positional-only arguments passed as keyword arguments: 'name'",
     "output_type": "error",
     "traceback": [
      "\u001b[0;31m---------------------------------------------------------------------------\u001b[0m",
      "\u001b[0;31mTypeError\u001b[0m                                 Traceback (most recent call last)",
      "\u001b[0;32m/tmp/ipykernel_24410/3183651188.py\u001b[0m in \u001b[0;36m<module>\u001b[0;34m\u001b[0m\n\u001b[1;32m      3\u001b[0m \u001b[0mgreet\u001b[0m\u001b[0;34m(\u001b[0m\u001b[0;34m'pouchou'\u001b[0m\u001b[0;34m)\u001b[0m\u001b[0;34m\u001b[0m\u001b[0;34m\u001b[0m\u001b[0m\n\u001b[1;32m      4\u001b[0m \u001b[0mgreet\u001b[0m\u001b[0;34m(\u001b[0m\u001b[0;34m\"Christopher\"\u001b[0m\u001b[0;34m,\u001b[0m \u001b[0mgreeting\u001b[0m\u001b[0;34m=\u001b[0m\u001b[0;34m\"Awesome job\"\u001b[0m\u001b[0;34m)\u001b[0m\u001b[0;34m\u001b[0m\u001b[0;34m\u001b[0m\u001b[0m\n\u001b[0;32m----> 5\u001b[0;31m \u001b[0mgreet\u001b[0m\u001b[0;34m(\u001b[0m\u001b[0mname\u001b[0m\u001b[0;34m=\u001b[0m\u001b[0;34m\"Christopher\"\u001b[0m\u001b[0;34m,\u001b[0m \u001b[0mgreeting\u001b[0m\u001b[0;34m=\u001b[0m\u001b[0;34m\"Did it work?\"\u001b[0m\u001b[0;34m)\u001b[0m\u001b[0;34m\u001b[0m\u001b[0;34m\u001b[0m\u001b[0m\n\u001b[0m",
      "\u001b[0;31mTypeError\u001b[0m: greet() got some positional-only arguments passed as keyword arguments: 'name'"
     ]
    }
   ],
   "source": [
    "def greet(name, /, greeting=\"Hello\"):\n",
    "    return f\"{greeting}, {name}\"\n",
    "greet('pouchou')\n",
    "greet(\"Christopher\", greeting=\"Awesome job\")\n",
    "greet(name=\"Christopher\", greeting=\"Did it work?\")"
   ]
  },
  {
   "cell_type": "markdown",
   "metadata": {},
   "source": [
    "## Compléments sur le \"typing\"\n",
    "On peut aussi se servir du typing sur les \"built in datastructures\"\n",
    "\n",
    "sources\n",
    "- https://medium.com/depurr/python-type-hinting-a7afe4a5637e\n",
    "- https://docs.python.org/fr/3.10/library/typing.html"
   ]
  },
  {
   "cell_type": "code",
   "execution_count": null,
   "metadata": {
    "vscode": {
     "languageId": "shellscript"
    }
   },
   "outputs": [],
   "source": [
    "from typing import List, Set, Dict, Tuple, Optional\n",
    "tableau_entier = List[int] \n",
    "tableau_entier = [10,20] \n",
    "tableau_entier : List[int] = [1, 2]\n",
    "s : Set[str] = {'rectangle', 'carré'}\n",
    "d : Dict[str, int] = {'machine': 'PC1', 'salle': 202}\n",
    "t : Tuple[str, float, float] = (\"point1\", 10.0, 100.0)\n",
    "\n"
   ]
  },
  {
   "cell_type": "code",
   "execution_count": null,
   "metadata": {
    "vscode": {
     "languageId": "shellscript"
    }
   },
   "outputs": [
    {
     "name": "stdout",
     "output_type": "stream",
     "text": [
      "None\n",
      "0\n"
     ]
    }
   ],
   "source": [
    "def compare_nombres(x: int) -> int:\n",
    "    if x<10:\n",
    "        return 1\n",
    "    elif x>10:\n",
    "        return 0\n",
    "    else:\n",
    "        return None\n",
    "result: Optional[int] = compare_nombres(10)\n",
    "print(result)\n",
    "result: Optional[int] = compare_nombres(10.1)\n",
    "print(result)\n"
   ]
  },
  {
   "cell_type": "markdown",
   "metadata": {},
   "source": [
    "## Affecter rapidement des éléments à une liste via le slicing"
   ]
  },
  {
   "cell_type": "code",
   "execution_count": null,
   "metadata": {
    "vscode": {
     "languageId": "shellscript"
    }
   },
   "outputs": [
    {
     "name": "stdout",
     "output_type": "stream",
     "text": [
      "['reptile', 'mamifère', 'poisson', 'oiseau']\n"
     ]
    }
   ],
   "source": [
    "maliste=['poisson','oiseau']\n",
    "maliste[0:0]=['reptile','mamifère']\n",
    "print(maliste)"
   ]
  },
  {
   "cell_type": "markdown",
   "metadata": {},
   "source": [
    "## Debug facile en python avec la fonction breakpoint"
   ]
  },
  {
   "cell_type": "code",
   "execution_count": null,
   "metadata": {
    "vscode": {
     "languageId": "shellscript"
    }
   },
   "outputs": [],
   "source": [
    "  breakpoint()\n",
    "  PYTHONBREAKPOINT=0 python3.7 debugger.py # n'execute pas le breakpoint"
   ]
  },
  {
   "cell_type": "markdown",
   "metadata": {},
   "source": [
    "## Python Enum"
   ]
  },
  {
   "cell_type": "code",
   "execution_count": null,
   "metadata": {
    "vscode": {
     "languageId": "shellscript"
    }
   },
   "outputs": [
    {
     "name": "stdout",
     "output_type": "stream",
     "text": [
      "Animal.HORSE\n",
      "miaou\n"
     ]
    }
   ],
   "source": [
    "from enum import Enum\n",
    "AnimalEnum = Enum('Animal', 'HORSE COW CHICKEN DOG')\n",
    "print(AnimalEnum.HORSE)\n",
    "\n",
    "class Animaux(Enum):\n",
    "    Chat=\"miaou\"\n",
    "    Chien=\"ouaoua\"\n",
    "    Poisson=\"gloub\"\n",
    "animal=Animaux.Chat.value\n",
    "print(animal)"
   ]
  },
  {
   "cell_type": "markdown",
   "metadata": {},
   "source": [
    "## Python Structural Pattern Matching (à partir de Python 3.10) "
   ]
  },
  {
   "cell_type": "markdown",
   "metadata": {},
   "source": [
    "implémentation de case en Python."
   ]
  },
  {
   "cell_type": "code",
   "execution_count": null,
   "metadata": {
    "vscode": {
     "languageId": "shellscript"
    }
   },
   "outputs": [],
   "source": [
    "def affecteHeuresParcours(parcours: Appartenance, duree_heure: int,compteur_heures_cloud: int,compteur_heures_cyber: int,compteur_heures_communes: int) -> Tuple:\n",
    "    \"\"\"Cette méthode affecte des heures à chacun des compteurs des parcours si un enseignant est affecté au cours\"\"\"\n",
    "    match parcours:     \n",
    "        case parcours.CLOUD:\n",
    "            compteur_heures_cloud += duree_heure\n",
    "        case parcours.CYBER:\n",
    "            compteur_heures_cyber += duree_heure\n",
    "        case parcours.COMMUN:\n",
    "            compteur_heures_communes += duree_heure\n",
    "    return(compteur_heures_cloud,compteur_heures_cyber,compteur_heures_communes)\n"
   ]
  },
  {
   "cell_type": "markdown",
   "metadata": {},
   "source": [
    "## For/else"
   ]
  },
  {
   "cell_type": "code",
   "execution_count": null,
   "metadata": {
    "vscode": {
     "languageId": "shellscript"
    }
   },
   "outputs": [],
   "source": [
    "def boucle(n : int) -> None:\n",
    "    for i in range(n):\n",
    "        print(i)\n",
    "        if i == 10:\n",
    "            print('STOP')\n",
    "            break\n",
    "    else:\n",
    "        print('Boucle terminée intégralement')"
   ]
  },
  {
   "cell_type": "markdown",
   "metadata": {},
   "source": [
    "# Ellipsis"
   ]
  },
  {
   "cell_type": "code",
   "execution_count": null,
   "metadata": {
    "vscode": {
     "languageId": "shellscript"
    }
   },
   "outputs": [],
   "source": [
    "def fct_incomplete(arg_1 : int, arg_2 : str) -> int :\n",
    "    ...\n",
    "# idem que\n",
    "def fct_incomplete(arg_1 : int, arg_2 : str) -> int :\n",
    "    pass\n",
    "\n",
    "def fct(param = ...) -> None:\n",
    "    if param is ...:\n",
    "        print('Pas de paramètre')\n",
    "    elif param is None:\n",
    "        print('None')\n",
    "    else:\n",
    "        print(f'Param : {param}')\n",
    " \n",
    " \n",
    "if __name__ == '__main__':\n",
    "    fct()\n",
    "    fct(None)\n",
    "    fct(12)\n",
    "    fct(...)"
   ]
  },
  {
   "cell_type": "markdown",
   "metadata": {},
   "source": [
    "## Unicode et emoji (fun)\n",
    "\n",
    "voir https://unicode.org/emoji/charts-14.0/full-emoji-list.html pour la liste des emojis \"unicode\""
   ]
  },
  {
   "cell_type": "code",
   "execution_count": 4,
   "metadata": {
    "vscode": {
     "languageId": "shellscript"
    }
   },
   "outputs": [
    {
     "name": "stdout",
     "output_type": "stream",
     "text": [
      "🍻\n",
      "🤣\n"
     ]
    }
   ],
   "source": [
    "from unicodedata import name as uniname \n",
    "from unicodedata import lookup \n",
    "print('\\U0001F37B')\n",
    "uniname('\\U0001F37B')\n",
    "lookup('CLINKING BEER MUGS')\n",
    "print(\"\\N{rolling on the floor laughing}\")\n"
   ]
  },
  {
   "cell_type": "markdown",
   "metadata": {},
   "source": [
    "## Regex\n",
    "\n",
    "re.match permet de trouver une correspondance\n",
    "re.findall d'extraire toutes les correspondances \n",
    "re.sub de substituer "
   ]
  },
  {
   "cell_type": "code",
   "execution_count": 3,
   "metadata": {},
   "outputs": [
    {
     "name": "stdout",
     "output_type": "stream",
     "text": [
      "correspondance\n",
      "correspondance\n"
     ]
    }
   ],
   "source": [
    "import re\n",
    "monstring=\"GRIS\"\n",
    "maregex=re.compile(r'GR(.)?S')\n",
    "if re.match(maregex,monstring):\n",
    "    print('correspondance')\n",
    "monstring=\"GRAS\"\n",
    "if re.match(maregex,monstring):\n",
    "    print('correspondance')\n",
    "monstring=\"GRAAS\"\n",
    "if re.match(maregex,monstring):\n",
    "    print('correspondance')    \n"
   ]
  },
  {
   "cell_type": "code",
   "execution_count": 13,
   "metadata": {
    "vscode": {
     "languageId": "shellscript"
    }
   },
   "outputs": [
    {
     "name": "stdout",
     "output_type": "stream",
     "text": [
      "['911', '911']\n"
     ]
    }
   ],
   "source": [
    "import re\n",
    "print(re.findall(\"([0-9]+)\", \"911 est une série mais 911 est aussi une voiture\"))"
   ]
  }
 ],
 "metadata": {
  "kernelspec": {
   "display_name": "Python 3.10.4 64-bit ('3.10.4')",
   "language": "python",
   "name": "python3"
  },
  "language_info": {
   "codemirror_mode": {
    "name": "ipython",
    "version": 3
   },
   "file_extension": ".py",
   "mimetype": "text/x-python",
   "name": "python",
   "nbconvert_exporter": "python",
   "pygments_lexer": "ipython3",
   "version": "3.10.4"
  },
  "metadata": {
   "interpreter": {
    "hash": "085a25c1fb9221a69b0be4aa937d71b2904ff55e3db595a24856ef5939a4196f"
   }
  },
  "varInspector": {
   "cols": {
    "lenName": 16,
    "lenType": 16,
    "lenVar": 40
   },
   "kernels_config": {
    "python": {
     "delete_cmd_postfix": "",
     "delete_cmd_prefix": "del ",
     "library": "var_list.py",
     "varRefreshCmd": "print(var_dic_list())"
    },
    "r": {
     "delete_cmd_postfix": ") ",
     "delete_cmd_prefix": "rm(",
     "library": "var_list.r",
     "varRefreshCmd": "cat(var_dic_list()) "
    }
   },
   "types_to_exclude": [
    "module",
    "function",
    "builtin_function_or_method",
    "instance",
    "_Feature"
   ],
   "window_display": false
  },
  "vscode": {
   "interpreter": {
    "hash": "6127d1fbbe37185a7da7e4da2c9f92f5859708dc5f2c34fc7e63ce95aa67320b"
   }
  }
 },
 "nbformat": 4,
 "nbformat_minor": 2
}
