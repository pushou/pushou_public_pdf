{
 "cells": [
  {
   "cell_type": "markdown",
   "metadata": {},
   "source": [
    "# Représentation des binaires avec Python\n",
    "\n",
    "Python3 stocke les strings sous forme de textes.\n",
    "Mais il peut le faire aussi au format bytes. Ce format permet de stocker des données des fichiers, des vidéos, des images ...)"
   ]
  },
  {
   "cell_type": "code",
   "execution_count": 4,
   "metadata": {},
   "outputs": [
    {
     "name": "stdout",
     "output_type": "stream",
     "text": [
      "coucou\n",
      "b'coucou'\n",
      "[99, 111, 117, 99, 111, 117]\n",
      "b'coucou'\n"
     ]
    }
   ],
   "source": [
    "texte = \"coucou\"\n",
    "textebytes = b\"coucou\"\n",
    "print(texte)\n",
    "print(textebytes)\n",
    "print(list(textebytes))\n",
    "listebinaires = [99, 111, 117, 99, 111, 117]\n",
    "print(bytes(listebinaires))\n",
    "b'secoué'\n",
    "             ^\n"
   ]
  },
  {
   "cell_type": "markdown",
   "metadata": {},
   "source": [
    "Le format binaire est le format de stockage commun du texte (Avec un octet on code 256 caractères). Mais lire une suite d'Octets peut se faire de différentes façons: on peut regrouper les octets, travailler en octal ou en hexadecimal et donc il faut savoir dans quel encodage on travaille pour assurer la bonne traduction. Le format bytes contient uniquement des caractères ASCII. \n",
    "On peut voir ici que le résultat d'un get http est retourné au format bytes"
   ]
  },
  {
   "cell_type": "code",
   "execution_count": 7,
   "metadata": {},
   "outputs": [
    {
     "data": {
      "text/plain": [
       "b'Joseph Mcdonald\\n'"
      ]
     },
     "execution_count": 7,
     "metadata": {},
     "output_type": "execute_result"
    }
   ],
   "source": [
    "from urllib.request import urlopen\n",
    "data = urlopen('https://pseudorandom.name').read()\n",
    "data"
   ]
  },
  {
   "cell_type": "markdown",
   "metadata": {},
   "source": [
    "Mais ASCII ne permet de coder que 256 caractères ce qui pose problème puisqu'on a une multitude d'alphabets et de caractères.\n",
    "\n",
    "Il faut donc aller au delà des 8 bits pour coder.\n",
    "\n",
    "Unicode permet de résoudre ce problème: c'est une table de correspondance de caractères textuels (chiffres, lettres, ponctuation) avec un numéro (appelé \"code point\" et écrit en hexa). Par contre elle ne vous dit pas comment passer du texte au binaire et réciproquement.\n",
    "\n",
    "Pour cela il vous faut connaître l'encodage utilisé. \n",
    "L'encodage le plus courant est UTF-8 mais il en existe bien d'autres (iso-latin-1, cp1252...).\n",
    "\n",
    "Si on utilise ASCII le ù n'est pas décodé car il ne fait pas partie des 128 premiers caractères de la table ASCII. \n"
   ]
  },
  {
   "cell_type": "code",
   "execution_count": 20,
   "metadata": {},
   "outputs": [
    {
     "name": "stdout",
     "output_type": "stream",
     "text": [
      "UTF-8\n",
      "b'pi\\xc3\\xb9'\n",
      "più\n"
     ]
    },
    {
     "ename": "UnicodeDecodeError",
     "evalue": "'ascii' codec can't decode byte 0xc3 in position 2: ordinal not in range(128)",
     "output_type": "error",
     "traceback": [
      "\u001b[0;31m---------------------------------------------------------------------------\u001b[0m",
      "\u001b[0;31mUnicodeDecodeError\u001b[0m                        Traceback (most recent call last)",
      "\u001b[1;32m/home/pouchou/ownCloud/formations/latex/BUT/but-notebooks/R308/CM-TD-TP/TD/python-bytes.ipynb Cellule 6\u001b[0m in \u001b[0;36m<cell line: 9>\u001b[0;34m()\u001b[0m\n\u001b[1;32m      <a href='vscode-notebook-cell:/home/pouchou/ownCloud/formations/latex/BUT/but-notebooks/R308/CM-TD-TP/TD/python-bytes.ipynb#ch0000006?line=6'>7</a>\u001b[0m s\u001b[39m=\u001b[39mb\u001b[39m.\u001b[39mdecode(\u001b[39m'\u001b[39m\u001b[39mUTF-8\u001b[39m\u001b[39m'\u001b[39m)\n\u001b[1;32m      <a href='vscode-notebook-cell:/home/pouchou/ownCloud/formations/latex/BUT/but-notebooks/R308/CM-TD-TP/TD/python-bytes.ipynb#ch0000006?line=7'>8</a>\u001b[0m \u001b[39mprint\u001b[39m(s)\n\u001b[0;32m----> <a href='vscode-notebook-cell:/home/pouchou/ownCloud/formations/latex/BUT/but-notebooks/R308/CM-TD-TP/TD/python-bytes.ipynb#ch0000006?line=8'>9</a>\u001b[0m s\u001b[39m=\u001b[39mb\u001b[39m.\u001b[39;49mdecode(\u001b[39m'\u001b[39;49m\u001b[39mASCII\u001b[39;49m\u001b[39m'\u001b[39;49m)\n\u001b[1;32m     <a href='vscode-notebook-cell:/home/pouchou/ownCloud/formations/latex/BUT/but-notebooks/R308/CM-TD-TP/TD/python-bytes.ipynb#ch0000006?line=9'>10</a>\u001b[0m \u001b[39mprint\u001b[39m(s)\n",
      "\u001b[0;31mUnicodeDecodeError\u001b[0m: 'ascii' codec can't decode byte 0xc3 in position 2: ordinal not in range(128)"
     ]
    }
   ],
   "source": [
    "import locale\n",
    "# affichage de l'encoding par défaut sous Linux\n",
    "print(locale.getpreferredencoding())\n",
    "s=\"più\"\n",
    "#\n",
    "ord('c')\n",
    "chr(99)\n",
    "b = s.encode('UTF-8')\n",
    "print(b)\n",
    "s=b.decode('UTF-8')\n",
    "print(s)\n",
    "s=b.decode('ASCII')\n",
    "print(s)\n"
   ]
  },
  {
   "cell_type": "markdown",
   "metadata": {},
   "source": [
    "Il vaut mieux travailler les données sans l'encodage."
   ]
  },
  {
   "cell_type": "code",
   "execution_count": 18,
   "metadata": {},
   "outputs": [
    {
     "data": {
      "text/plain": [
       "str"
      ]
     },
     "execution_count": 18,
     "metadata": {},
     "output_type": "execute_result"
    }
   ],
   "source": [
    "decoddata=data.decode('UTF-8')\n",
    "type(decoddata)"
   ]
  },
  {
   "cell_type": "markdown",
   "metadata": {},
   "source": [
    "Pour obtenir le \"code point\" en hexa d'un caractère  "
   ]
  },
  {
   "cell_type": "code",
   "execution_count": 19,
   "metadata": {},
   "outputs": [
    {
     "name": "stdout",
     "output_type": "stream",
     "text": [
      "0x000058\n",
      "0x01f4af\n"
     ]
    }
   ],
   "source": [
    "print(format(ord('X'), '#08x'))\n",
    "print(format(ord('💯'), '#08x'))"
   ]
  }
 ],
 "metadata": {
  "kernelspec": {
   "display_name": "Python 3.10.4 64-bit ('3.10.4')",
   "language": "python",
   "name": "python3"
  },
  "language_info": {
   "codemirror_mode": {
    "name": "ipython",
    "version": 3
   },
   "file_extension": ".py",
   "mimetype": "text/x-python",
   "name": "python",
   "nbconvert_exporter": "python",
   "pygments_lexer": "ipython3",
   "version": "3.10.4"
  },
  "orig_nbformat": 4,
  "vscode": {
   "interpreter": {
    "hash": "6127d1fbbe37185a7da7e4da2c9f92f5859708dc5f2c34fc7e63ce95aa67320b"
   }
  }
 },
 "nbformat": 4,
 "nbformat_minor": 2
}
