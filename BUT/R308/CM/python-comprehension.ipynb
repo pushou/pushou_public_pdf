{
 "cells": [
  {
   "cell_type": "markdown",
   "metadata": {},
   "source": [
    "# Complément sur les comprehensions"
   ]
  },
  {
   "cell_type": "markdown",
   "metadata": {},
   "source": [
    "## if then else traduit en \"list comprehension\""
   ]
  },
  {
   "cell_type": "code",
   "execution_count": 96,
   "metadata": {},
   "outputs": [
    {
     "name": "stdout",
     "output_type": "stream",
     "text": [
      "square_cube[] = [0, 1, 4, 27, 16, 125, 36, 343, 64, 729]\n",
      "Avec une List-Comprehension = [0, 1, 4, 27, 16, 125, 36, 343, 64, 729]\n",
      "Avec une List-Comprehension et lambda = [0, 1, 4, 27, 16, 125, 36, 343, 64, 729]\n"
     ]
    }
   ],
   "source": [
    "# sur une idée de Iffat Malik Gore voir https://towardsdatascience.com/comprehensions-and-generator-expression-in-python-2ae01c48fc50\n",
    "\n",
    "\n",
    "# Sans list comprehension\n",
    "\n",
    "\n",
    "square_cube = listeCarreCube(range(10))\n",
    "print(f\"square_cube[] = {square_cube}\")\n",
    "def listeCarreCube(num:list)->list:\n",
    "    square_cube=[]  # Liste de nombre si le nombre est pair on le met au carré dans la liste si le nombre \n",
    "                    # est impair on le met au cube dans la liste\n",
    "    for num in range(10):\n",
    "        if num%2==0:\n",
    "            square_cube.append(num**2)\n",
    "        else:\n",
    "            square_cube.append(num**3)\n",
    "    return(square_cube)\n",
    "\n",
    "#avec une List Comprehension \n",
    "square_cube_lc=[n**2 if n%2==0 else n**3 for n in range(10)]\n",
    "print(f\"Avec une List-Comprehension = {square_cube_lc}\")\n",
    "\n",
    "# On peut s'en passer ...\n",
    "f = lambda x:x%2 and x**3 or x**2\n",
    "square_cube_lcl=[f(n) for n in range(10)]\n",
    "print(f\"Avec une List-Comprehension et lambda = {square_cube_lcl}\")\n"
   ]
  },
  {
   "cell_type": "markdown",
   "metadata": {},
   "source": [
    "## Double itération avec les \"list comprehension\""
   ]
  },
  {
   "cell_type": "code",
   "execution_count": 97,
   "metadata": {},
   "outputs": [
    {
     "name": "stdout",
     "output_type": "stream",
     "text": [
      "cartesian[] = \n",
      " [('a', 0), ('a', 1), ('a', 2), ('a', 3), ('b', 0), ('b', 1), ('b', 2), ('b', 3), ('c', 0), ('c', 1), ('c', 2), ('c', 3)]\n",
      "With List-Comprehension = \n",
      " [('a', 0), ('a', 1), ('a', 2), ('a', 3), ('b', 0), ('b', 1), ('b', 2), ('b', 3), ('c', 0), ('c', 1), ('c', 2), ('c', 3)]\n"
     ]
    }
   ],
   "source": [
    "# extrait de https://towardsdatascience.com/comprehensions-and-generator-expression-in-python-2ae01c48fc50 par Iffat Malik Gore \n",
    "\n",
    "\n",
    "#cartesian product of two Lists\n",
    "char_list=['a','b','c']\n",
    "int_list=[0,1,2,3]\n",
    "cartesian=[]\n",
    "\n",
    "for x in char_list:\n",
    "    for y in int_list:\n",
    "        cartesian.append((x,y))\n",
    "        \n",
    "print(f\"cartesian[] = \\n {cartesian}\")        \n",
    "   \n",
    "#with List Comprehension\n",
    "print(f\"With List-Comprehension = \\n {[(p,q) for p in char_list for q in int_list]}\")"
   ]
  },
  {
   "cell_type": "markdown",
   "metadata": {},
   "source": [
    "## \"Set comprehension\"\n"
   ]
  },
  {
   "cell_type": "code",
   "execution_count": 98,
   "metadata": {},
   "outputs": [
    {
     "name": "stdout",
     "output_type": "stream",
     "text": [
      "With List-Comprehension = ['Python', 'Java', 'C++', 'Python', 'Python']\n",
      "With Set-Comprehension = {'C++', 'Java', 'Python'}\n"
     ]
    }
   ],
   "source": [
    "#Set Comprehension extrait de https://towardsdatascience.com/comprehensions-and-generator-expression-in-python-2ae01c48fc50 par Iffat Malik Gore \n",
    "\n",
    "#dictionary inside a list\n",
    "person = [ {'name': \"Emma\", 'language': [\"Python\", \"Java\"]},\n",
    "           {'name': \"Harry\", 'language': [\"C++\", \"Python\"]},\n",
    "           {'name': \"Lily\", 'language': [\"Python\"]} \n",
    "         ]\n",
    "         \n",
    "\n",
    "#with List Comprehension\n",
    "person_lc=[l for p in range(len(person)) for l in person[p]['language']]  \n",
    "print(f\"With List-Comprehension = {person_lc}\")\n",
    "\n",
    "#with Set Comprehension\n",
    "person_sc={l for p in range(len(person)) for l in person[p]['language']}  \n",
    "print(f\"With Set-Comprehension = {person_sc}\")\n",
    "\n"
   ]
  },
  {
   "cell_type": "markdown",
   "metadata": {},
   "source": [
    "## \"Dict comprehension\""
   ]
  },
  {
   "cell_type": "code",
   "execution_count": 99,
   "metadata": {},
   "outputs": [
    {
     "name": "stdout",
     "output_type": "stream",
     "text": [
      "385 ns ± 21.1 ns per loop (mean ± std. dev. of 7 runs, 1,000,000 loops each)\n",
      "773 ns ± 31.3 ns per loop (mean ± std. dev. of 7 runs, 1,000,000 loops each)\n",
      "{'salle202': 10, 'salle203': 12, 'salle204': 14, 'salle205': 15, 'salle206': 7, 'salle207': 3}\n",
      "983 ns ± 23 ns per loop (mean ± std. dev. of 7 runs, 1,000,000 loops each)\n",
      "{'salle202': 10, 'salle203': 12, 'salle204': 14, 'salle205': 15, 'salle206': 7, 'salle207': 3}\n"
     ]
    }
   ],
   "source": [
    "salles=['salle202','salle203','salle204','salle205','salle206','salle207']\n",
    "nombres_pc=[10,12,14,15,7,3]\n",
    "# %timeit permet d'obtenir des statistiques sur une ligne d'instructions\n",
    "%timeit d_pcpsalle={zip(salles,nombres_pc)}\n",
    "# vaut mieux privilégié {} sur dict ou [] que list pour la rapidité\n",
    "%timeit d_pcpsalle=dict(zip(salles,nombres_pc))\n",
    "print(d_pcpsalle)\n",
    "\n",
    "# avec dict_comprehension c'est le plus lent\n",
    "\n",
    "%timeit d_pcpsalle_dc = {s:nbpc for s,nbpc in zip(salles,nombres_pc)}\n",
    "print(d_pcpsalle_dc)\n",
    "\n",
    "\n"
   ]
  }
 ],
 "metadata": {
  "kernelspec": {
   "display_name": "Python 3.10.4 64-bit ('3.10.4')",
   "language": "python",
   "name": "python3"
  },
  "language_info": {
   "codemirror_mode": {
    "name": "ipython",
    "version": 3
   },
   "file_extension": ".py",
   "mimetype": "text/x-python",
   "name": "python",
   "nbconvert_exporter": "python",
   "pygments_lexer": "ipython3",
   "version": "3.10.4"
  },
  "orig_nbformat": 4,
  "vscode": {
   "interpreter": {
    "hash": "6127d1fbbe37185a7da7e4da2c9f92f5859708dc5f2c34fc7e63ce95aa67320b"
   }
  }
 },
 "nbformat": 4,
 "nbformat_minor": 2
}
