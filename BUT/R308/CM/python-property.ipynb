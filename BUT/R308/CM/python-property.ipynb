{
 "cells": [
  {
   "cell_type": "markdown",
   "metadata": {},
   "source": [
    "# Les property en Python\n",
    "\n",
    "Dans les langages objets il est souvent demandé pour accéder, créer, modifier une variable de créer des fonctions permettant de la faire. On les appelle des \"Getters\", des \"Setters\".\n",
    "On appelle donc ces fonctions sur un objet:  "
   ]
  },
  {
   "cell_type": "code",
   "execution_count": 14,
   "metadata": {},
   "outputs": [
    {
     "name": "stdout",
     "output_type": "stream",
     "text": [
      "Pouchoulon\n"
     ]
    }
   ],
   "source": [
    "class Enseignant:\n",
    "    def __init__(self, nom = \"unknown\"):\n",
    "         self._nom = nom\n",
    "      \n",
    "    # getter méthode\n",
    "    def get_nom(self)->str:\n",
    "        return self._nom\n",
    "      \n",
    "    # setter méthode\n",
    "    def set_nom(self, nom: str)-> None:\n",
    "        self._nom = nom\n",
    "  \n",
    "ens = Enseignant()\n",
    "  \n",
    "# Le setter permet d'affecter le nom\n",
    "ens.set_nom(\"Pouchoulon\")\n",
    "  \n",
    "# Le getter permet de le retrouver\n",
    "print(ens.get_nom())\n",
    "  \n"
   ]
  },
  {
   "cell_type": "markdown",
   "metadata": {},
   "source": [
    "Mais l'exemple précédent est lourd dans la forme de l'appel de la fonction et n'est pas très \"Pythonique\": on préfère accéder à un attribut sous la forme ens.nom que ens.get_nom().\n",
    "Python avec le protocole property permet d'encapsuler les getters et les setters. \n"
   ]
  },
  {
   "cell_type": "code",
   "execution_count": 21,
   "metadata": {},
   "outputs": [
    {
     "name": "stdout",
     "output_type": "stream",
     "text": [
      "Je suis Pouchoulon et je ne suis pas un Enfeignant\n",
      "désaffectation du nom\n"
     ]
    }
   ],
   "source": [
    "\n",
    "class Enseignant:\n",
    "    def __init__(self, nom = \"unknown\"):\n",
    "         self._nom = nom\n",
    "      \n",
    "    # getter méthode\n",
    "    def get_nom(self)->str:\n",
    "        return self._nom\n",
    "      \n",
    "    # setter méthode\n",
    "    def set_nom(self, nom: str)-> None:\n",
    "        self._nom = nom\n",
    "    \n",
    "    # destructeur méthode\n",
    "    def del_nom(self)->None:\n",
    "        print(\"désaffectation du nom\")\n",
    "        del self._nom\n",
    "\n",
    "    def __str__(self):\n",
    "        return(f\"Je suis {self.nom} et je ne suis pas un Enfeignant\")\n",
    "\n",
    "    def __repr__(self):\n",
    "        return(f\"Je suis {self.nom} et je ne suis pas un Enfeignant\")    \n",
    "    \n",
    "    nom = property(get_nom, set_nom, del_nom)\n",
    "\n",
    "ens = Enseignant()\n",
    "  \n",
    "# On affecte simplement le nom à l'attribut \n",
    "ens.nom = \"Pouchoulon\"\n",
    "  \n",
    "# et on l'affiche facilement\n",
    "print(ens)\n",
    "# destruction\n",
    "del ens.nom\n",
    " \n",
    " "
   ]
  },
  {
   "cell_type": "markdown",
   "metadata": {},
   "source": [
    "On peut aussi utiliser un décorateur. Rapidement un décorateur c'est une fonction qui s'applique à une fonction. C'est le \"gof(x)\" de mes maths de cinquième"
   ]
  },
  {
   "cell_type": "code",
   "execution_count": 37,
   "metadata": {},
   "outputs": [
    {
     "name": "stdout",
     "output_type": "stream",
     "text": [
      "mon nom est Pouchoulon\n",
      "Je suis Pouchoulon et je ne suis pas un Enfeignant\n",
      "mon nom est Pouchoulon\n",
      "Pouchoulon\n",
      "désaffectation du nom\n"
     ]
    }
   ],
   "source": [
    "class Enseignant:\n",
    "    def __init__(self, nom = \"unknown\"):\n",
    "         self._nom = nom\n",
    "    \n",
    "    # polymorphisme\n",
    "    @property\n",
    "    def nom(self)->str:\n",
    "        print(f\"mon nom est {self._nom}\")\n",
    "        return self._nom\n",
    "    \n",
    "    @nom.setter\n",
    "    def nom(self, nom: str)-> None:\n",
    "        self._nom = nom\n",
    "    \n",
    "    @nom.deleter\n",
    "    def nom(self)->None:\n",
    "        print(\"désaffectation du nom\")\n",
    "        del self._nom\n",
    "\n",
    "    def __str__(self):\n",
    "        return(f\"Je suis {self.nom} et je ne suis pas un Enfeignant\")\n",
    "\n",
    "    def __repr__(self):\n",
    "        return(f\"Je suis {self.nom} et je ne suis pas un Enfeignant\")    \n",
    "    \n",
    "\n",
    "ens = Enseignant()\n",
    "  \n",
    "# On affecte simplement le nom à l'attribut \n",
    "ens.nom = \"Pouchoulon\"\n",
    "  \n",
    "# et on l'affiche facilement\n",
    "print(ens)\n",
    "print(ens.nom)\n",
    "# destruction\n",
    "del(ens.nom)\n"
   ]
  }
 ],
 "metadata": {
  "kernelspec": {
   "display_name": "Python 3.10.4 64-bit ('3.10.4')",
   "language": "python",
   "name": "python3"
  },
  "language_info": {
   "codemirror_mode": {
    "name": "ipython",
    "version": 3
   },
   "file_extension": ".py",
   "mimetype": "text/x-python",
   "name": "python",
   "nbconvert_exporter": "python",
   "pygments_lexer": "ipython3",
   "version": "3.10.4"
  },
  "orig_nbformat": 4,
  "vscode": {
   "interpreter": {
    "hash": "6127d1fbbe37185a7da7e4da2c9f92f5859708dc5f2c34fc7e63ce95aa67320b"
   }
  }
 },
 "nbformat": 4,
 "nbformat_minor": 2
}
