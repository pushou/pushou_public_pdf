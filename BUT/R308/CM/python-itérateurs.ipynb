{
 "cells": [
  {
   "cell_type": "markdown",
   "metadata": {},
   "source": [
    "# Complément sur les itérateurs et les générateurs\n",
    "\n",
    "Les itérateurs sont des objets centraux en Python. Comme il est gros consommateur de mémoire on évite de dupliquer les données (une  liste par exemple) et de les mettre en mémoire grâce aux itérateurs.\n",
    "Un itérateur est un pistolet à un seul coup: c'est comme la lecture d'une bande magnétique, une fois le dernier enregistrement de la bande lu il faut rembobiner en créant un nouvel itérateur.   "
   ]
  },
  {
   "cell_type": "markdown",
   "metadata": {},
   "source": [
    "## Définitions d'itérable et d'itérateurs\n",
    "\n",
    "Un \"itérable\" est un objet sur lequel on peut itérer. Il doit implémenter la méthode __iter__() qui va générer un objet itérateur.\n",
    "Un itérateur est un objet qui itère un \"itérable\". Il doit implémenter la méthode spéciale __next__() qui renvoie le prochain item de l'objet itéré.\n",
    "Un itérateur est aussi un \"itérable\" et donc à ce titre a aussi une méthode __iter__().\n",
    "\n",
    "Créons un itérateur sur un itérable simple:"
   ]
  },
  {
   "cell_type": "code",
   "execution_count": 13,
   "metadata": {},
   "outputs": [
    {
     "name": "stdout",
     "output_type": "stream",
     "text": [
      "p\n",
      "o\n",
      "u\n",
      "c\n",
      "h\n",
      "o\n",
      "u\n"
     ]
    },
    {
     "ename": "StopIteration",
     "evalue": "",
     "output_type": "error",
     "traceback": [
      "\u001b[0;31m---------------------------------------------------------------------------\u001b[0m",
      "\u001b[0;31mStopIteration\u001b[0m                             Traceback (most recent call last)",
      "\u001b[1;32m/home/pouchou/ownCloud/formations/latex/BUT/but-notebooks/R308/CM-TD-TP/TD/python-itérateurs.ipynb Cellule 3\u001b[0m in \u001b[0;36m<cell line: 10>\u001b[0;34m()\u001b[0m\n\u001b[1;32m      <a href='vscode-notebook-cell:/home/pouchou/ownCloud/formations/latex/BUT/but-notebooks/R308/CM-TD-TP/TD/python-it%C3%A9rateurs.ipynb#ch0000003?line=7'>8</a>\u001b[0m \u001b[39mprint\u001b[39m(\u001b[39mnext\u001b[39m(iterateur))\n\u001b[1;32m      <a href='vscode-notebook-cell:/home/pouchou/ownCloud/formations/latex/BUT/but-notebooks/R308/CM-TD-TP/TD/python-it%C3%A9rateurs.ipynb#ch0000003?line=8'>9</a>\u001b[0m \u001b[39mprint\u001b[39m(\u001b[39mnext\u001b[39m(iterateur))\n\u001b[0;32m---> <a href='vscode-notebook-cell:/home/pouchou/ownCloud/formations/latex/BUT/but-notebooks/R308/CM-TD-TP/TD/python-it%C3%A9rateurs.ipynb#ch0000003?line=9'>10</a>\u001b[0m \u001b[39mprint\u001b[39m(\u001b[39mnext\u001b[39;49m(iterateur))\n",
      "\u001b[0;31mStopIteration\u001b[0m: "
     ]
    }
   ],
   "source": [
    "iterable=\"pouchou\"\n",
    "iterateur=iter(iterable)\n",
    "print(next(iterateur))\n",
    "print(next(iterateur))\n",
    "print(next(iterateur))\n",
    "print(next(iterateur))\n",
    "print(next(iterateur))\n",
    "print(next(iterateur))\n",
    "print(next(iterateur))\n",
    "print(next(iterateur))"
   ]
  },
  {
   "cell_type": "markdown",
   "metadata": {},
   "source": [
    "Comme on le voit, l'appel de la méthode next génère une exception quand l'ensemble (7 lettres) de l'iterable a été lu par l'itérateur. C'est un comportement normal, il faut gérer la  fin de l'itérateur qui ne connaît pas à l'avance le nombre d'itérations:"
   ]
  },
  {
   "cell_type": "code",
   "execution_count": 14,
   "metadata": {},
   "outputs": [
    {
     "name": "stdout",
     "output_type": "stream",
     "text": [
      "p\n",
      "o\n",
      "u\n",
      "c\n",
      "h\n",
      "o\n",
      "u\n"
     ]
    }
   ],
   "source": [
    "iterable=\"pouchou\"\n",
    "iterateur=iter(iterable)\n",
    "\n",
    "while True:\n",
    "    try:\n",
    "        # On itère\n",
    "        item = next(iterateur)\n",
    "        print(item)\n",
    "    except StopIteration:\n",
    "        # jusqu'à la fin ou il faut s'arrêter\n",
    "        break\n",
    "\n"
   ]
  },
  {
   "cell_type": "markdown",
   "metadata": {},
   "source": [
    "## itérateurs et itérables objets\n",
    "\n",
    "Un objet \"itérable\" doit implémenter la méthode __iter__() qui va générer un objet itérateur.\n",
    "Un itérateur  doit implémenter la méthode spéciale __next__() qui renvoie le prochain item de l'objet itéré.\n",
    "Un itérateur est aussi un \"itérable\" et donc à ce titre a aussi une méthode __iter__().\n",
    "\n",
    "Créons un itérateur objet à partir de la classe Enseignement vue précédemment: \n"
   ]
  },
  {
   "cell_type": "code",
   "execution_count": 35,
   "metadata": {},
   "outputs": [
    {
     "name": "stdout",
     "output_type": "stream",
     "text": [
      "['je', 'fais', 'un', 'TP', 'sur', 'Python', 'et', \"l'héritage\"]\n",
      "[]\n"
     ]
    }
   ],
   "source": [
    "from typing import Iterable\n",
    "class IterEnseignement:\n",
    "    \"\"\" C'est ma classe\"\"\"\n",
    "\n",
    "    def __init__(self, mon_enseignement: str)->None:\n",
    "        \"\"\"Cette fonction initialise une instance d'enseignement avec une variable et ne renvoie rien\n",
    "        remarquez que la variable enseignement est une copie de mon_enseignement \"\"\"\n",
    "        self.mots = mon_enseignement[:].split()\n",
    "        \n",
    "\n",
    "    def __repr__(self)->str:\n",
    "        return(f\"instance de Enseignement je contient l'attribut de l'instance: {self.mots}\")\n",
    "\n",
    "    def __iter__(self)->Iterable:\n",
    "        return self\n",
    "    \n",
    "    def __next__(self)->str:\n",
    "        if not self.mots:\n",
    "            raise StopIteration\n",
    "        return self.mots.pop(0)\n",
    "\n",
    "\n",
    "\n",
    "mon_enseignement: str = \"je fais un TP sur Python et l'héritage\"\n",
    "\n",
    "\n",
    "e = IterEnseignement(mon_enseignement)\n",
    "\n",
    "\n",
    "print([item for item in e])\n",
    "\n",
    "print([item for item in e])\n",
    " \n"
   ]
  },
  {
   "cell_type": "markdown",
   "metadata": {},
   "source": [
    "## Objets générateurs\n",
    "\n",
    "Comme on le voit ci-dessus l'itérateur n'ayant pas été ré-armé, la liste retournée est vide.\n",
    "Si on veut avoir un itérateur toujours prêt à être itéré chaque fois qu'on le sollicite sa méthode __iter__ doit renvoyé un itérable prêt à l'emploi.\n",
    "En Python on peut créer un itérable avec une fonction générateur et le mot clef Yield\n",
    "Reprenons notre exemple précédent: "
   ]
  },
  {
   "cell_type": "code",
   "execution_count": 42,
   "metadata": {},
   "outputs": [
    {
     "name": "stdout",
     "output_type": "stream",
     "text": [
      "['je', 'fais', 'un', 'TP', 'sur', 'Python', 'et', \"l'héritage\"]\n",
      "['je', 'fais', 'un', 'TP', 'sur', 'Python', 'et', \"l'héritage\"]\n"
     ]
    }
   ],
   "source": [
    "from typing import Iterable\n",
    "class IterEnseignement:\n",
    "    \"\"\" C'est ma classe\"\"\"\n",
    "\n",
    "    def __init__(self, mon_enseignement: str)->None:\n",
    "        \"\"\"Cette fonction initialise une instance d'enseignement avec une variable et ne renvoie rien\n",
    "        remarquez que la variable enseignement est une copie de mon_enseignement \"\"\"\n",
    "        self.mots = mon_enseignement[:].split()\n",
    "        \n",
    "\n",
    "    def __repr__(self)->str:\n",
    "        return(f\"instance de Enseignement je contient l'attribut de l'instance: {self.mots}\")\n",
    "\n",
    "    def __iter__(self)->Iterable:\n",
    "        \"\"\" cette fonction renvoie un itérateur toujours armé grâce à yield\"\"\"\n",
    "        for mot in self.mots:\n",
    "            yield(mot)\n",
    "    \n",
    "    def __next__(self)->str:\n",
    "        if not self.mots:\n",
    "            raise StopIteration\n",
    "        return self.mots.pop(0)\n",
    "\n",
    "\n",
    "\n",
    "mon_enseignement: str = \"je fais un TP sur Python et l'héritage\"\n",
    "\n",
    "\n",
    "e = IterEnseignement(mon_enseignement)\n",
    "\n",
    "\n",
    "print([item for item in e])\n",
    "\n",
    "print([item for item in e])"
   ]
  }
 ],
 "metadata": {
  "kernelspec": {
   "display_name": "Python 3.10.4 64-bit ('3.10.4')",
   "language": "python",
   "name": "python3"
  },
  "language_info": {
   "codemirror_mode": {
    "name": "ipython",
    "version": 3
   },
   "file_extension": ".py",
   "mimetype": "text/x-python",
   "name": "python",
   "nbconvert_exporter": "python",
   "pygments_lexer": "ipython3",
   "version": "3.10.4"
  },
  "orig_nbformat": 4,
  "vscode": {
   "interpreter": {
    "hash": "6127d1fbbe37185a7da7e4da2c9f92f5859708dc5f2c34fc7e63ce95aa67320b"
   }
  }
 },
 "nbformat": 4,
 "nbformat_minor": 2
}
