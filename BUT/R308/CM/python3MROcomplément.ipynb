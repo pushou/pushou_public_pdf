{
 "cells": [
  {
   "cell_type": "markdown",
   "metadata": {},
   "source": [
    "# Héritage multiple\n",
    "\n",
    "Python 3 implémente la linearisation C3 pour définir l'ordre d'héritage d'une fonction. Cet algo est différent de celui utilisé en Python 2  (on oublie Python2)"
   ]
  },
  {
   "cell_type": "markdown",
   "metadata": {},
   "source": [
    "![MRO](https://upload.wikimedia.org/wikipedia/commons/4/47/C3_linearization_example.svg)"
   ]
  },
  {
   "cell_type": "markdown",
   "metadata": {},
   "source": [
    " class O\n",
    " class A extends O\n",
    " class B extends O\n",
    " class C extends O\n",
    " class D extends O\n",
    " class E extends O\n",
    " class K1 extends C, B, A\n",
    " class K3 extends A, D\n",
    " class K2 extends B, D, E\n",
    " class Z extends K1, K3, K2\n",
    "\n",
    "\n",
    "Algo,C3:\n",
    "\n",
    "Classe elle-même + merge(linéarisation de ses parent+liste des classes dans l'ordre d'écriture sur la classe)\n",
    "L'algo consiste à prendre le premier élément dans la liste de merge et de le trouver dans le merge pour le \"factoriser\".\n",
    "\n",
    "exemple:\n",
    "\n",
    "K1  hérite de  C, B, A\n",
    "L(K1) = K1 + merge(L(C),L(B),L(A) + [C,B,A])\n",
    "L[K1] = K1 + merge([C,0],[B,0],[A,0]+[C,B,A])\n",
    "le merge prend le premier élément [C] et l'extrait si il est présent sinon on passe au second terme\n",
    "ici il est présent\n",
    "L[K1] = [K1,C] + merge([0],[B,0],[A,0],[B,A])\n",
    "0 n'est pas présent on choisit B\n",
    "L[K1] = [K1,C,B] + merge([O],[A,0],[A]\n",
    "On choisit A, reste O\n",
    "L[K1] = [K1,C,B,A,O] "
   ]
  },
  {
   "cell_type": "markdown",
   "metadata": {},
   "source": [
    "Les itération complètes (sur wikipédia)\n",
    "https://en.wikipedia.org/wiki/C3_linearization"
   ]
  },
  {
   "cell_type": "markdown",
   "metadata": {},
   "source": [
    "L(O)  := [O]                                                // the linearization of O is trivially the singleton list [O], because O has no parents\n",
    " \n",
    " L(A)  := [A] + merge(L(O), [O])                             // the linearization of A is A plus the merge of its parents' linearizations with the list of parents...\n",
    "        = [A] + merge([O], [O])\n",
    "        = [A, O]                                             // ...which simply prepends A to its single parent's linearization\n",
    " \n",
    " L(B)  := [B, O]                                             // linearizations of B, C, D and E are computed similar to that of A\n",
    " L(C)  := [C, O]\n",
    " L(D)  := [D, O]\n",
    " L(E)  := [E, O]\n",
    " \n",
    " L(K1) := [K1] + merge(L(C), L(B), L(A), [C, B, A])          // first, find the linearizations of K1's parents, L(C), L(B), and L(A), and merge them with the parent list [C, B, A]\n",
    "        = [K1] + merge([C, O], [B, O], [A, O], [C, B, A])    // class C is a good candidate for the first merge step, because it only appears as the head of the first and last lists\n",
    "        = [K1, C] + merge([O], [B, O], [A, O], [B, A])       // class O is not a good candidate for the next merge step, because it also appears in the tails of list 2 and 3; but class B is a good candidate\n",
    "        = [K1, C, B] + merge([O], [O], [A, O], [A])          // class A is a good candidate; class O still appears in the tail of list 3\n",
    "        = [K1, C, B, A] + merge([O], [O], [O])               // finally, class O is a valid candidate, which also exhausts all remaining lists\n",
    "        = [K1, C, B, A, O]\n",
    " \n",
    " L(K3) := [K3] + merge(L(A), L(D), [A, D])\n",
    "        = [K3] + merge([A, O], [D, O], [A, D])               // select A\n",
    "        = [K3, A] + merge([O], [D, O], [D])                  // fail O, select D\n",
    "        = [K3, A, D] + merge([O], [O])                       // select O\n",
    "        = [K3, A, D, O]\n",
    " \n",
    " L(K2) := [K2] + merge(L(B), L(D), L(E), [B, D, E])\n",
    "        = [K2] + merge([B, O], [D, O], [E, O], [B, D, E])    // select B\n",
    "        = [K2, B] + merge([O], [D, O], [E, O], [D, E])       // fail O, select D\n",
    "        = [K2, B, D] + merge([O], [O], [E, O], [E])          // fail O, select E\n",
    "        = [K2, B, D, E] + merge([O], [O], [O])               // select O\n",
    "        = [K2, B, D, E, O]\n",
    " \n",
    " L(Z)  := [Z] + merge(L(K1), L(K3), L(K2), [K1, K3, K2])\n",
    "        = [Z] + merge([K1, C, B, A, O], [K3, A, D, O], [K2, B, D, E, O], [K1, K3, K2])    // select K1\n",
    "        = [Z, K1] + merge([C, B, A, O], [K3, A, D, O], [K2, B, D, E, O], [K3, K2])        // select C\n",
    "        = [Z, K1, C] + merge([B, A, O], [K3, A, D, O], [K2, B, D, E, O], [K3, K2])        // fail B, select K3\n",
    "        = [Z, K1, C, K3] + merge([B, A, O], [A, D, O], [K2, B, D, E, O], [K2])            // fail B, fail A, select K2\n",
    "        = [Z, K1, C, K3, K2] + merge([B, A, O], [A, D, O], [B, D, E, O])                  // select B\n",
    "        = [Z, K1, C, K3, K2, B] + merge([A, O], [A, D, O], [D, E, O])                     // select A\n",
    "        = [Z, K1, C, K3, K2, B, A] + merge([O], [D, O], [D, E, O])                        // fail O, select D\n",
    "        = [Z, K1, C, K3, K2, B, A, D] + merge([O], [O], [E, O])                           // fail O, select E\n",
    "        = [Z, K1, C, K3, K2, B, A, D, E] + merge([O], [O], [O])                           // select O\n",
    "        = [Z, K1, C, K3, K2, B, A, D, E, O]                                               // done\n"
   ]
  },
  {
   "cell_type": "markdown",
   "metadata": {},
   "source": [
    "L'implémentation en Python et l'appel à la méthode \"Method Resolution Order\" donne l'arbre d'héritage"
   ]
  },
  {
   "cell_type": "code",
   "execution_count": 3,
   "metadata": {},
   "outputs": [
    {
     "name": "stdout",
     "output_type": "stream",
     "text": [
      "[K1, C, B, A, O, <class 'object'>]\n",
      "[Z, K1, C, K3, K2, B, A, D, E, O, <class 'object'>]\n"
     ]
    }
   ],
   "source": [
    "class Type(type):\n",
    "    def __repr__(cls):\n",
    "        return cls.__name__\n",
    "\n",
    "> class O(object, metaclass=Type): pass\n",
    "\n",
    "class A(O): pass\n",
    "\n",
    "class B(O): pass\n",
    "\n",
    "class C(O): pass\n",
    "\n",
    "class D(O): pass\n",
    "\n",
    "class E(O): pass\n",
    "\n",
    "class K1(C, B, A): pass\n",
    "\n",
    "class K3(A, D): pass\n",
    "\n",
    "class K2(B, D, E): pass\n",
    "\n",
    "class Z(K1, K3, K2): pass\n",
    "\n",
    "print(K1.mro())\n",
    "print(Z.mro())\n"
   ]
  }
 ],
 "metadata": {
  "kernelspec": {
   "display_name": "Python 3.10.4 64-bit ('3.10.4')",
   "language": "python",
   "name": "python3"
  },
  "language_info": {
   "codemirror_mode": {
    "name": "ipython",
    "version": 3
   },
   "file_extension": ".py",
   "mimetype": "text/x-python",
   "name": "python",
   "nbconvert_exporter": "python",
   "pygments_lexer": "ipython3",
   "version": "3.10.4"
  },
  "orig_nbformat": 4,
  "vscode": {
   "interpreter": {
    "hash": "6127d1fbbe37185a7da7e4da2c9f92f5859708dc5f2c34fc7e63ce95aa67320b"
   }
  }
 },
 "nbformat": 4,
 "nbformat_minor": 2
}
