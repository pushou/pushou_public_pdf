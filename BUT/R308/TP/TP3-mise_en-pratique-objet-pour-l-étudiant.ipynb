{
 "cells": [
  {
   "cell_type": "markdown",
   "metadata": {},
   "source": [
    "# TP3 Pratique des méthodes spéciales de Python\n",
    "\n"
   ]
  },
  {
   "cell_type": "markdown",
   "metadata": {},
   "source": [
    "### Livrables attendus et compétences:\n",
    "\n",
    "#### Livrables\n",
    "\n",
    "- Ce Notebook avec vos codes et des preuves de son fonctionnement.\n",
    "- Une validation par l'enseignant au cours du TP.\n",
    "- Le travail est individuel sauf contre indication.\n",
    "- Le travail est rendu sur github education.L'URL sera communiquée par l'enseignant.\n",
    "\n",
    "#### Compétences qui vont être alimentées:\n",
    "\n",
    "\n",
    "- Utiliser un système informatiques et ses outils.\n",
    "- Lire, exécuter, corriger et modifier un programme.\n",
    "- S'intégrer dans un environnement propice au développement et au travail collaboratif.\n",
    "- Lier entre aux deux apprentissages critiques.\n",
    "  \n",
    "#### Composantes essentielles\n",
    "\n",
    "- Il respecte les règles métiers.\n",
    "- En utilisant une approche rigoureuse pour les dysfonctionnements. \n",
    "- Il assure une veille technologique."
   ]
  },
  {
   "cell_type": "markdown",
   "metadata": {},
   "source": [
    "## Exercice 1 Création d'une classe \"Complexe\" permettant des opérations d'additions  \n",
    "Créez une classe Complexe permettant l'addition, la soustraction, la multiplication de deux complexes (vous n'utiliserez pas le type complex natif de Python).\n",
    "la multiplication de deux complexes :  a+bi*c+di= (a*c-b*d) + (b*c+a*d)i\n",
    "la division de deux complexes : a+bi/c+di=(a*c+b*d)/(c**2+d**2) + (b*c-a*d)/(c**2+d**2)i"
   ]
  },
  {
   "cell_type": "code",
   "execution_count": 12,
   "metadata": {},
   "outputs": [
    {
     "name": "stdout",
     "output_type": "stream",
     "text": [
      "1 + (2*i)\n",
      "3 + (-4*i)\n",
      "4 + (-2*i)\n",
      "-2 + (6*i)\n",
      "11 + (2*i)\n",
      "-0.2 + (0.4*i)\n",
      "##################################################\n",
      "vérification\n",
      "(4-2j)\n",
      "(-2+6j)\n",
      "(11+2j)\n",
      "(-0.2+0.4j)\n"
     ]
    }
   ],
   "source": []
  },
  {
   "cell_type": "markdown",
   "metadata": {},
   "source": [
    "## Exercice 2 - Création d'un itérateur\n",
    "\n",
    "Créer un code pour itérez un ligne sur deux du texte \" ode à l'adminsys\" pour en décoder le sens caché.\n",
    "Vous pouvez utiliser le module StringIO du package io afin de créer un fichier en mémoire à partir du string suivant:\n",
    "\n",
    "```\n",
    "Mon adminys, est toujours entrain de\n",
    "travailler à son bureau avec assiduité et diligence, sans jamais\n",
    "perdre son temps en jasant avec ses collègues. Jamais il ne\n",
    "refuse de passer du temps pour aider les autres et malgré cela, il\n",
    "termine ses projets à temps. Très souvent, il rallonge\n",
    "ses heures pour terminer son travail, parfois même en sautant\n",
    "les pauses café. C’est une personne qui n’a absolument aucune\n",
    "vanité en dépit de ses accomplissements remarquables et de sa\n",
    "compétence en informatique. C’est le genre d’employé de qui on\n",
    "parle en grande estime et respect, le genre de personne dont on ne\n",
    "peut se passer. Je crois fermement qu’il est prêt pour la\n",
    "promotion qu’il demande, considérant tout ce qu’il nous ap-\n",
    "porte. L’entreprise en sortira grande gagnante.\n",
    "```\n",
    "\n",
    "Vous implémenterez avec des méthode spéciales le squelette suivant de la classe TexteIter:\n",
    "\n",
    "\n",
    "```python\n",
    "class TexteIter():\n",
    "    \"\"\" cette classe renvoie une ligne sur deux d'un texte\"\"\"\n",
    "\n",
    "    def __init__(self,texte: str)->None:\n",
    "        ...\n",
    "\n",
    "    def __len__(self):\n",
    "        ...\n",
    "\n",
    "    def __iter__(self):\n",
    "        ...\n",
    "\n",
    "    def __next__(self):\n",
    "        ...\n",
    "```"
   ]
  },
  {
   "cell_type": "code",
   "execution_count": 3,
   "metadata": {},
   "outputs": [
    {
     "name": "stdout",
     "output_type": "stream",
     "text": [
      "\n",
      "Mon adminsys est toujours entrain de\n",
      "\n",
      "perdre son temps en jasant avec ses collègues. Jamais il ne\n",
      "\n",
      "termine ses projets à temps. Très souvent, il rallonge\n",
      "\n",
      "les pauses café. C'est une personne qui n'a absolument aucune\n",
      "\n",
      "compétence. C'est le genre d'employé de qui on\n",
      "\n",
      "peut se passer. Je crois fermement qu'il est prêt pour la\n",
      "\n",
      "porte. L'entreprise en sortira grande gagnante.\n"
     ]
    }
   ],
   "source": [
    "\n"
   ]
  },
  {
   "cell_type": "code",
   "execution_count": null,
   "metadata": {},
   "outputs": [],
   "source": []
  },
  {
   "cell_type": "markdown",
   "metadata": {},
   "source": [
    "##  Exercice 3 : Manipulation de l'adressage réseaux avec Python\n",
    "\n",
    "\n",
    "Installez le package netaddr.\n",
    "\n",
    "\n",
    "Le package netaddr permet de manipuler des adresses réseaux.\n",
    "\n",
    "1. Créer deux instances de IPNetwork avec les adresses réseaux des salles 202 et 203.}\n",
    "2. Listez et comptez les adresses ip disponibles dans une salle en fonction du nombre de postes dans la salle (On prendra 20 postes par salle). Utiliser une \"list comprehension\" pour répondre à cette question.\n",
    "3. Créez un nouvel objet Network en \"mergeant\" les réseaux des deux salles (ne pas  limiter le nombre de postes pour le merge.)                       \n",
    "4. Listez les subnets /25 de ce nouveau réseau.\n",
    "5. Listez le supernet des réseaux des salles licence.\n",
    "6. Vérifiez que les réseaux des salles de l'IUT suivent la RFC 1918 (adressage privée).\n",
    "7. En utilisant le package itertools et la fonction islice limitez le nombre de réseaux affichés à chaque print.\n",
    "\n"
   ]
  },
  {
   "cell_type": "code",
   "execution_count": 13,
   "metadata": {},
   "outputs": [
    {
     "name": "stdout",
     "output_type": "stream",
     "text": [
      "nombre d'ip en salle 203: 5376\n",
      "print 20 premiers réseaux ip des réseaux des salles licence\n",
      "\n",
      "####################################################################################################\n",
      "10.202.0.0\n",
      "10.202.0.1\n",
      "10.202.0.2\n",
      "10.202.0.3\n",
      "10.202.0.4\n",
      "10.202.0.5\n",
      "10.202.0.6\n",
      "10.202.0.7\n",
      "10.202.0.8\n",
      "10.202.0.9\n",
      "10.202.0.10\n",
      "10.202.0.11\n",
      "10.202.0.12\n",
      "10.202.0.13\n",
      "10.202.0.14\n",
      "10.202.0.15\n",
      "10.202.0.16\n",
      "10.202.0.17\n",
      "10.202.0.18\n",
      "10.202.0.19\n",
      "####################################################################################################\n",
      "10 premiers subnets licence en /25 [IPNetwork('10.202.0.0/25'), IPNetwork('10.202.0.128/25'), IPNetwork('10.202.1.0/25'), IPNetwork('10.202.1.128/25'), IPNetwork('10.202.2.0/25'), IPNetwork('10.202.2.128/25'), IPNetwork('10.202.3.0/25'), IPNetwork('10.202.3.128/25'), IPNetwork('10.202.4.0/25'), IPNetwork('10.202.4.128/25')]\n",
      "[   IPNetwork('0.0.0.0/0'),\n",
      "    IPNetwork('0.0.0.0/1'),\n",
      "    IPNetwork('0.0.0.0/2'),\n",
      "    IPNetwork('0.0.0.0/3'),\n",
      "    IPNetwork('0.0.0.0/4'),\n",
      "    IPNetwork('8.0.0.0/5'),\n",
      "    IPNetwork('8.0.0.0/6'),\n",
      "    IPNetwork('10.0.0.0/7'),\n",
      "    IPNetwork('10.0.0.0/8'),\n",
      "    IPNetwork('10.128.0.0/9'),\n",
      "    IPNetwork('10.192.0.0/10'),\n",
      "    IPNetwork('10.192.0.0/11'),\n",
      "    IPNetwork('10.192.0.0/12'),\n",
      "    IPNetwork('10.200.0.0/13'),\n",
      "    IPNetwork('10.200.0.0/14')]\n",
      "salle202 est privé: True\n"
     ]
    }
   ],
   "source": [
    "\n"
   ]
  }
 ],
 "metadata": {
  "kernelspec": {
   "display_name": "Python 3.10.4 64-bit ('3.10.4')",
   "language": "python",
   "name": "python3"
  },
  "language_info": {
   "codemirror_mode": {
    "name": "ipython",
    "version": 3
   },
   "file_extension": ".py",
   "mimetype": "text/x-python",
   "name": "python",
   "nbconvert_exporter": "python",
   "pygments_lexer": "ipython3",
   "version": "3.10.4"
  },
  "orig_nbformat": 4,
  "vscode": {
   "interpreter": {
    "hash": "6127d1fbbe37185a7da7e4da2c9f92f5859708dc5f2c34fc7e63ce95aa67320b"
   }
  }
 },
 "nbformat": 4,
 "nbformat_minor": 2
}
