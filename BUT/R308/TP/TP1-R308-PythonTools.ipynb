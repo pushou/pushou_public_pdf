{
 "cells": [
  {
   "cell_type": "markdown",
   "metadata": {},
   "source": [
    "# TP 1 Utilisation d'environnements de développement pour Python"
   ]
  },
  {
   "cell_type": "markdown",
   "metadata": {},
   "source": [
    "# Pré-requis\n",
    "\n",
    "Une connaissance de base de VIM et de VScode normalement acquise dans la SAE12 est requise. Donc avant le TP remettez en jeu vos compétences!"
   ]
  },
  {
   "cell_type": "markdown",
   "metadata": {},
   "source": [
    "### Livrables attendus et compétences:\n",
    "\n",
    "#### Livrables\n",
    "\n",
    "- Ce Notebook avec les configurations de votre environnement de développement pour VScode et Vim.\n",
    "- Une validation par l'enseignant au cours ou en fin du TP.\n",
    "- Le travail est individuel sauf contre indication.\n",
    "- Le travail est rendu sur github education. L'URL sera communiquée par l'enseignant.\n",
    "\n",
    "#### Compétences qui vont être alimentées:\n",
    "\n",
    "- Installer un poste de travail.\n",
    "- Utiliser un système informatiques et ses outils.\n",
    "- Lire, exécuter, corriger et modifier un programme.\n",
    "- S'intégrer dans un environnement propice au développement et au travail collaboratif.\n",
    "- Lier entre eux deux apprentissages critiques.\n",
    "  \n",
    "#### Composantes essentielles\n",
    "\n",
    "- Respecter les règles métiers.\n",
    "- Utiliser une approche rigoureuse pour les dysfonctionnements. \n",
    "- Assurer une veille technologique."
   ]
  },
  {
   "cell_type": "markdown",
   "metadata": {},
   "source": [
    "# Introduction\n",
    "L'éditeur de codes appelé souvent **\"Integrated Development Environment\"**  est un atout pour la **productivité** du développeur. Il existe de nombreux éditeurs spécialisés sur le développement en langage Python ou des IDE généralistes. On exclura les I.D.E payants ici: ils sont souvent bons, peut être meilleur que les IDE \"gratuits\" mais nos besoins restent modestes. \n",
    "\n",
    "Quel IDE pour quels usages ?\n",
    "\n",
    "* Tout développeur versionne son code et le sauvegarde (même le développeur occasionnel). Git est l'outil indispensable pour le faire et **vous l'utiliserez obligatoirement**.\n",
    "\n",
    "* Vim est mon choix d'I.D.E/éditeur quand il faut écrire un morceau de code rapidement. Avec son plugin \"You Complete me\" qui apporte la complétion il se transforme en IDE. L'intégration de VIM avec GitHub ou GitLab est aussi possible. Vim ne nécessite pas une interface graphique et peut travailler via ssh sur un fichier distant. C'est la **jeep des IDE**.\n",
    "\n",
    "* Je ne suis pas un pro-Microsoft (ni un anti-Microsoft)  mais cette société a toujours édité des outils pour les développeurs avec sa suite \"Visual Studio\". La mise en OpenSource de VScode a amené beaucoup de développeur à utiliser VScode. \n",
    "  \n",
    "* VScode a des qualités:\n",
    "  - Il est Multi-langages. Un investissement dans VScode est donc rapidement amorti. Je m'en sers pour éditer du code Python, des Notebooks Jupyter, du Markdown, du code Ansible, des Dockerfiles et des manifestes K8S ), du Latex , des dessins avec DrawIO ... Le choix est très large.\n",
    "  - Ubiquitaire, Vscode se connecte facilement à une machine virtuelle distante ou mieux à un container. Si vous voulez uniformiser votre environnement de développement pour l'ensemble de vos développeurs il est facile de construire une image Docker et de l'instancier pour trouver la version de Python et les packages nécessaires dans votre domaine d'activité.\n",
    "\n",
    "Nous allons maintenant passer à l'action au travers de notre TP."
   ]
  },
  {
   "cell_type": "markdown",
   "metadata": {},
   "source": [
    "### Aparté:\n",
    "\n",
    "Indiquez ici en quelques phrases et en 5mn  en quoi le fonctionnement de Vscode est en phase avec la philosophie objet. Confrontez vos idées avec votre voisin.  "
   ]
  },
  {
   "cell_type": "markdown",
   "metadata": {},
   "source": [
    "..."
   ]
  },
  {
   "cell_type": "markdown",
   "metadata": {},
   "source": [
    "# L'installation de Python \n",
    "\n",
    "la plupart des systèmes Linux sont livrés avec Python 3. Mais utiliser le binaire Python fourni par le système n'est en général pas une bonne idée:\n",
    "- Vous pouvez avoir besoin d'une version plus récente.\n",
    "- Vous dégradez votre OS par l'installation de packages.\n",
    "- L'enfer des dépendances vous tend les bras...\n",
    "  \n",
    "Pyenv dont je suis fan vous permet en tant qu'utilisateur d'installer plusieurs versions de Python et de passer facilement de l'une à l'autre. La gestion des packages peut se faire par projet à l'aide virtualenv ou sur chaque version de Python (non recommandé mais bien pratique).\n",
    "\n"
   ]
  },
  {
   "cell_type": "markdown",
   "metadata": {},
   "source": [
    "## Exercice 1 Installation de PyEnv et de la dernière version de Python:\n",
    "\n",
    "Durée estimée: 30 mn\n",
    "Vous travaillez avec un user lambda (student, test...) pas sous root.\n",
    "Pyenv dispose d'un auto installeur qui fonctionne bien.\n",
    "\n",
    "Un bon article: https://blog.stephane-robert.info/post/python-pyenv-pipenv/\n",
    "\n",
    "\n"
   ]
  },
  {
   "cell_type": "markdown",
   "metadata": {},
   "source": [
    "## Environnements virtuels dans pyenv\n",
    "\n",
    "Pyenv permet d'installer des packages relatifs à une version de Python. Tant que vous n'avez qu'un seul projet associer les packages à la version de Python ne pose pas de problèmes. Les dépendances entre les packages peuvent être différentes dans chaque projet. Il est donc préférable de gérer les packages par projet.\n",
    "\n",
    "Il existe des outils pour vous aider à gérer les projets et les packages qui y sont rattachés.\n",
    "VirtualEnv est un outil mature dans l'écosystème Python et il gère les dépendances des packages.\n",
    "\n",
    "\n",
    "Poetry est récent et offre une interface unifiée pour gérer des projets. A ce titre il inclue virtualenv et il permet de gérer jusqu'à la publication du package.\n",
    "\n",
    "On peut aussi citer comme outils  pipeenv qui inclue pyenv et le gestionnaire pip de packages Python.\n",
    "\n"
   ]
  },
  {
   "cell_type": "markdown",
   "metadata": {},
   "source": [
    "## Exercice 3 \n",
    "\n",
    "Durée estimé 10 mn\n",
    "\n",
    "\n",
    "\n",
    "poetry fonctionne aussi avec pyenv et inclue venv.\n",
    "La documentation de Poetry est accessible ici: https://python-poetry.org/docs\n",
    "\n",
    "On vous demande:\n",
    "- D'installer Poetry.\n",
    "- De créer un package p1 dans une directory projetp1 (voir option new de poetry).\n",
    "- D'obtenir des infos sur le package p1.\n",
    "- De décrire le contenu du fichier toml. Ne le modifiez pas c'est poetry qui le fait en fonction des commandes passées.  \n",
    "- Après avoir lancé un shell avec poetry , d'ajoutez (toujours avec poetry) le package ipython.\n",
    "- De simulez (dry-run) l'ajout du package arrow dans le projet dans sa dernière version (latest). Ce package ne devra pas être une dépendance obligatoire du projet. \n",
    "- Ajoutez maintenant arrow  dans votre projet puis enlevez-le.\n",
    "- Builder package avec poetry ( on pourrait aussi le pousser sur pypi mais on ne le fera pas pour ne pas encombrer)\n",
    " "
   ]
  },
  {
   "cell_type": "markdown",
   "metadata": {},
   "source": [
    "...Check"
   ]
  },
  {
   "cell_type": "markdown",
   "metadata": {},
   "source": [
    "## Exercice 3 Configurez Vim en IDE pour Python\n",
    "\n",
    "Durée estimée 1 heure \n",
    "\n",
    "\n",
    "Vim de base est un éditeur intéressant. Il lui manque néanmoins certaines capacités pour le transformer en IDE.\n",
    "Ces capacités sont accessibles au travers des plugins de vim.\n",
    "Il existe plusieurs installeurs de plugins. On travaillera ici avec vundle (https://github.com/VundleVim/Vundle.vim)\n",
    "\n",
    "Il vous est demandé de transformer votre vim en IDE avec la complétion pour le langage Python sur un VM Ubuntu 22.\n",
    "Vous utiliserez la version de Python installée avec Pyenv précédemment pour les plugins de VIM qui travaille avec Python.\n",
    "\n",
    "\n",
    "Vous pouvez vous aider des articles suivants:\n",
    "\n",
    "- https://realpython.com/vim-and-python-a-match-made-in-heaven/ (c'est de 2015 tout ne fonctionnera pas il faut l'adapter) \n",
    "- https://static.realpython.com/guides/vim-setup-guide.pdf (idem en PDF)\n",
    "- https://vimawesome.com/ pour les plugins ()\n",
    "\n",
    "L'auto-complétion est une composante essentielle d'un IDE. Le plugin central de votre IDE: \"YouCompleteMe\" est disponible pour l'auto installeur Vundle \n",
    "\n",
    "\n",
    "Un peu d'aide pour l'installation de youcompleteme avec pyenv \n",
    "```bash\n",
    "\n",
    "~/.vim/bundle/YouCompleteMe/install.py --clang-completer\n",
    "```\n",
    "\n",
    "\n",
    "\n",
    "\n"
   ]
  },
  {
   "cell_type": "markdown",
   "metadata": {},
   "source": [
    "...Check"
   ]
  },
  {
   "cell_type": "markdown",
   "metadata": {},
   "source": [
    "## Exercice 4 - Vscode, SSH et les containers\n",
    "\n",
    "Durée estimée: 30 mn\n",
    "\n",
    "Vous allez travailler sur un container Python pré-installé avec de la complétion. Passez les commandes suivantes:\n",
    "\n",
    "```bash\n",
    "alias snake=\"docker run --rm -it -v \"$(pwd):$(pwd)\" -w $(pwd) registry.iutbeziers.fr/pythoniut:light\"\n",
    "snake \n",
    "vim test.py\n",
    "```\n",
    "\n",
    "1. Vous connecterez votre VSCODE à un container Python qui founira l'interpréteur Python pour vos projets.\n",
    "2. Vous installerez le module Vim pour vscode et vous utiliserez \"vim easy motion\" , \"vim surround\" et \"vim indent object\"\n"
   ]
  },
  {
   "cell_type": "markdown",
   "metadata": {},
   "source": [
    "...check"
   ]
  },
  {
   "cell_type": "markdown",
   "metadata": {},
   "source": [
    "## Exercice 5 Jupyter notebook et Ipython \n",
    "\n",
    "Durée estimée : 30 minutes Travail par groupe de 2.\n",
    "\n",
    "Ipython est un shell survitaminé pour Python et s'apparente à un IDE avec la completion, le debug et les rappels des commandes. Il est capable aussi d'appeler le bash de votre machine. C'est un complément efficace à des développements rapides.\n",
    "Il est aussi inclu dans jupyter.\n",
    "\n",
    "Vous installerez ipython sur votre machine via\n",
    "```bash\n",
    "pip install jupyter ipython\n",
    "jupyter lab\n",
    "```\n",
    "\n",
    "Complétez les cellules suivantes par des explications, des titres ou des démos. Certaines fonctions \"magiques\" ne seront accessibles depuis un navigateur: lancez la commande \"jupyter lab\" depuis la console pour retrouver ce notebook.\n"
   ]
  },
  {
   "cell_type": "markdown",
   "metadata": {},
   "source": [
    "\n",
    "# ![title](images/jupyterlab.png)\n"
   ]
  },
  {
   "cell_type": "code",
   "execution_count": null,
   "metadata": {
    "vscode": {
     "languageId": "shellscript"
    }
   },
   "outputs": [
    {
     "name": "stdout",
     "output_type": "stream",
     "text": [
      "247 ns ± 13.6 ns per loop (mean ± std. dev. of 7 runs, 1,000,000 loops each)\n"
     ]
    },
    {
     "name": "stdout",
     "output_type": "stream",
     "text": [
      "\u001b[0;31mType:\u001b[0m        list\n",
      "\u001b[0;31mString form:\u001b[0m ['Number of users', 123456]\n",
      "\u001b[0;31mLength:\u001b[0m      2\n",
      "\u001b[0;31mDocstring:\u001b[0m  \n",
      "Built-in mutable sequence.\n",
      "\n",
      "If no argument is given, the constructor creates a new empty list.\n",
      "The argument must be an iterable if specified.\n"
     ]
    }
   ],
   "source": [
    "data = ['Number of users', 123456]\n",
    "data[0]\n",
    "%timeit range(10)\n",
    "data?\n"
   ]
  },
  {
   "cell_type": "code",
   "execution_count": null,
   "metadata": {
    "vscode": {
     "languageId": "shellscript"
    }
   },
   "outputs": [
    {
     "name": "stdout",
     "output_type": "stream",
     "text": [
      "{\n",
      "  \"shell_port\": 9007,\n",
      "  \"iopub_port\": 9009,\n",
      "  \"stdin_port\": 9008,\n",
      "  \"control_port\": 9006,\n",
      "  \"hb_port\": 9005,\n",
      "  \"ip\": \"127.0.0.1\",\n",
      "  \"key\": \"2a5c9168-9215-49a9-8013-8483480ff789\",\n",
      "  \"transport\": \"tcp\",\n",
      "  \"signature_scheme\": \"hmac-sha256\",\n",
      "  \"kernel_name\": \"\"\n",
      "}\n",
      "\n",
      "Paste the above JSON into a file, and connect with:\n",
      "    $> jupyter <app> --existing <file>\n",
      "or, if you are local, you can connect with just:\n",
      "    $> jupyter <app> --existing kernel-v2-306771s54bqCsED9W1.json\n",
      "or even just:\n",
      "    $> jupyter <app> --existing\n",
      "if this is the most recent Jupyter kernel you have started.\n"
     ]
    }
   ],
   "source": [
    "%connect_info"
   ]
  },
  {
   "cell_type": "code",
   "execution_count": null,
   "metadata": {
    "vscode": {
     "languageId": "shellscript"
    }
   },
   "outputs": [],
   "source": [
    "%qtconsole"
   ]
  },
  {
   "cell_type": "code",
   "execution_count": null,
   "metadata": {
    "vscode": {
     "languageId": "shellscript"
    }
   },
   "outputs": [
    {
     "name": "stdout",
     "output_type": "stream",
     "text": [
      "3.10.4 (main, Apr 24 2022, 15:44:40) [GCC 11.2.0]\n"
     ]
    }
   ],
   "source": [
    "%run test.py"
   ]
  },
  {
   "cell_type": "code",
   "execution_count": null,
   "metadata": {
    "vscode": {
     "languageId": "shellscript"
    }
   },
   "outputs": [
    {
     "name": "stdout",
     "output_type": "stream",
     "text": [
      "PING ix1-pv-lbl-vip-194-57-3-16.renater.fr (194.57.3.16) 56(84) bytes of data.\n",
      "64 bytes from ix1-pv-lbl-vip-194-57-3-16.renater.fr (194.57.3.16): icmp_seq=1 ttl=243 time=77.1 ms\n",
      "64 bytes from ix1-pv-lbl-vip-194-57-3-16.renater.fr (194.57.3.16): icmp_seq=2 ttl=243 time=77.5 ms\n",
      "64 bytes from ix1-pv-lbl-vip-194-57-3-16.renater.fr (194.57.3.16): icmp_seq=3 ttl=243 time=75.6 ms\n",
      "64 bytes from ix1-pv-lbl-vip-194-57-3-16.renater.fr (194.57.3.16): icmp_seq=4 ttl=243 time=15.9 ms\n",
      "\n",
      "--- ix1-pv-lbl-vip-194-57-3-16.renater.fr ping statistics ---\n",
      "4 packets transmitted, 4 received, 0% packet loss, time 3004ms\n",
      "rtt min/avg/max/mdev = 15.933/61.536/77.494/26.338 ms\n"
     ]
    }
   ],
   "source": [
    "!ping -c4 www.cru.fr"
   ]
  },
  {
   "cell_type": "code",
   "execution_count": null,
   "metadata": {
    "vscode": {
     "languageId": "shellscript"
    }
   },
   "outputs": [
    {
     "name": "stdout",
     "output_type": "stream",
     "text": [
      "%run test.py\n",
      "%run test.py\n",
      "!ping www.cru.fr\n",
      "!ping -c4 www.cru.fr\n",
      "%history\n",
      "data = ['Number of users', 123456]\n",
      "data[0]\n",
      "%%timeit range(10)\n",
      "data?\n",
      "%connect_info\n",
      "%qtconsole\n",
      "%run test.py\n",
      "!ping -c4 www.cru.fr\n",
      "%history\n",
      "%pastebin 3\n",
      "%run test.py\n",
      "%history 5\n",
      "%history\n"
     ]
    }
   ],
   "source": [
    "%history "
   ]
  },
  {
   "cell_type": "code",
   "execution_count": null,
   "metadata": {
    "vscode": {
     "languageId": "shellscript"
    }
   },
   "outputs": [
    {
     "data": {
      "text/plain": [
       "'https://dpaste.com/H5UXR2MFX'"
      ]
     },
     "metadata": {},
     "output_type": "display_data"
    }
   ],
   "source": [
    "%pastebin 3"
   ]
  },
  {
   "cell_type": "code",
   "execution_count": null,
   "metadata": {
    "vscode": {
     "languageId": "shellscript"
    }
   },
   "outputs": [
    {
     "name": "stdout",
     "output_type": "stream",
     "text": [
      "3.10.4 (main, Apr 24 2022, 15:44:40) [GCC 11.2.0]\n"
     ]
    }
   ],
   "source": [
    "%run test.py"
   ]
  },
  {
   "cell_type": "code",
   "execution_count": null,
   "metadata": {
    "vscode": {
     "languageId": "shellscript"
    }
   },
   "outputs": [],
   "source": [
    "%run -d test.py"
   ]
  },
  {
   "cell_type": "code",
   "execution_count": null,
   "metadata": {
    "vscode": {
     "languageId": "shellscript"
    }
   },
   "outputs": [
    {
     "name": "stderr",
     "output_type": "stream",
     "text": [
      "\n",
      "KeyboardInterrupt\n",
      "\n"
     ]
    }
   ],
   "source": [
    "import sys\n",
    "1/0\n"
   ]
  },
  {
   "cell_type": "code",
   "execution_count": null,
   "metadata": {
    "vscode": {
     "languageId": "shellscript"
    }
   },
   "outputs": [],
   "source": [
    "image.png"
   ]
  },
  {
   "cell_type": "code",
   "execution_count": null,
   "metadata": {
    "vscode": {
     "languageId": "shellscript"
    }
   },
   "outputs": [],
   "source": [
    "#%% \n",
    "%%time\n",
    "print('bar')"
   ]
  },
  {
   "cell_type": "code",
   "execution_count": null,
   "metadata": {
    "vscode": {
     "languageId": "shellscript"
    }
   },
   "outputs": [
    {
     "name": "stdout",
     "output_type": "stream",
     "text": [
      "\n",
      "IPython -- An enhanced Interactive Python - Quick Reference Card\n",
      "================================================================\n",
      "\n",
      "obj?, obj??      : Get help, or more help for object (also works as\n",
      "                   ?obj, ??obj).\n",
      "?foo.*abc*       : List names in 'foo' containing 'abc' in them.\n",
      "%magic           : Information about IPython's 'magic' % functions.\n",
      "\n",
      "Magic functions are prefixed by % or %%, and typically take their arguments\n",
      "without parentheses, quotes or even commas for convenience.  Line magics take a\n",
      "single % and cell magics are prefixed with two %%.\n",
      "\n",
      "Example magic function calls:\n",
      "\n",
      "%alias d ls -F   : 'd' is now an alias for 'ls -F'\n",
      "alias d ls -F    : Works if 'alias' not a python name\n",
      "alist = %alias   : Get list of aliases to 'alist'\n",
      "cd /usr/share    : Obvious. cd -<tab> to choose from visited dirs.\n",
      "%cd??            : See help AND source for magic %cd\n",
      "%timeit x=10     : time the 'x=10' statement with high precision.\n",
      "%%timeit x=2**100\n",
      "x**100           : time 'x**100' with a setup of 'x=2**100'; setup code is not\n",
      "                   counted.  This is an example of a cell magic.\n",
      "\n",
      "System commands:\n",
      "\n",
      "!cp a.txt b/     : System command escape, calls os.system()\n",
      "cp a.txt b/      : after %rehashx, most system commands work without !\n",
      "cp ${f}.txt $bar : Variable expansion in magics and system commands\n",
      "files = !ls /usr : Capture system command output\n",
      "files.s, files.l, files.n: \"a b c\", ['a','b','c'], 'a\\nb\\nc'\n",
      "\n",
      "History:\n",
      "\n",
      "_i, _ii, _iii    : Previous, next previous, next next previous input\n",
      "_i4, _ih[2:5]    : Input history line 4, lines 2-4\n",
      "exec(_i81)       : Execute input history line #81 again\n",
      "%rep 81          : Edit input history line #81\n",
      "_, __, ___       : previous, next previous, next next previous output\n",
      "_dh              : Directory history\n",
      "_oh              : Output history\n",
      "%hist            : Command history of current session.\n",
      "%hist -g foo     : Search command history of (almost) all sessions for 'foo'.\n",
      "%hist -g         : Command history of (almost) all sessions.\n",
      "%hist 1/2-8      : Command history containing lines 2-8 of session 1.\n",
      "%hist 1/ ~2/     : Command history of session 1 and 2 sessions before current.\n",
      "%hist ~8/1-~6/5  : Command history from line 1 of 8 sessions ago to\n",
      "                   line 5 of 6 sessions ago.\n",
      "%edit 0/         : Open editor to execute code with history of current session.\n",
      "\n",
      "Autocall:\n",
      "\n",
      "f 1,2            : f(1,2)  # Off by default, enable with %autocall magic.\n",
      "/f 1,2           : f(1,2) (forced autoparen)\n",
      ",f 1 2           : f(\"1\",\"2\")\n",
      ";f 1 2           : f(\"1 2\")\n",
      "\n",
      "Remember: TAB completion works in many contexts, not just file names\n",
      "or python names.\n",
      "\n",
      "The following magic functions are currently available:\n",
      "\n",
      "%alias:\n",
      "    Define an alias for a system command.\n",
      "%alias_magic:\n",
      "    ::\n",
      "%autoawait:\n",
      "    \n",
      "%autocall:\n",
      "    Make functions callable without having to type parentheses.\n",
      "%automagic:\n",
      "    Make magic functions callable without having to type the initial %.\n",
      "%autosave:\n",
      "    Set the autosave interval in the notebook (in seconds).\n",
      "%bookmark:\n",
      "    Manage IPython's bookmark system.\n",
      "%cat:\n",
      "    Alias for `!cat`\n",
      "%cd:\n",
      "    Change the current working directory.\n",
      "%clear:\n",
      "    Clear the terminal.\n",
      "%colors:\n",
      "    Switch color scheme for prompts, info system and exception handlers.\n",
      "%conda:\n",
      "    Run the conda package manager within the current kernel.\n",
      "%config:\n",
      "    configure IPython\n",
      "%connect_info:\n",
      "    Print information for connecting other clients to this kernel\n",
      "%cp:\n",
      "    Alias for `!cp`\n",
      "%debug:\n",
      "    ::\n",
      "%dhist:\n",
      "    Print your history of visited directories.\n",
      "%dirs:\n",
      "    Return the current directory stack.\n",
      "%doctest_mode:\n",
      "    Toggle doctest mode on and off.\n",
      "%ed:\n",
      "    Alias for `%edit`.\n",
      "%edit:\n",
      "    Bring up an editor and execute the resulting code.\n",
      "%env:\n",
      "    Get, set, or list environment variables.\n",
      "%gui:\n",
      "    Enable or disable IPython GUI event loop integration.\n",
      "%hist:\n",
      "    Alias for `%history`.\n",
      "%history:\n",
      "    ::\n",
      "%killbgscripts:\n",
      "    Kill all BG processes started by %%script and its family.\n",
      "%ldir:\n",
      "    Alias for `!ls -F -o --color %l | grep /$`\n",
      "%less:\n",
      "    Show a file through the pager.\n",
      "%lf:\n",
      "    Alias for `!ls -F -o --color %l | grep ^-`\n",
      "%lk:\n",
      "    Alias for `!ls -F -o --color %l | grep ^l`\n",
      "%ll:\n",
      "    Alias for `!ls -F -o --color`\n",
      "%load:\n",
      "    Load code into the current frontend.\n",
      "%load_ext:\n",
      "    Load an IPython extension by its module name.\n",
      "%loadpy:\n",
      "    Alias of `%load`\n",
      "%logoff:\n",
      "    Temporarily stop logging.\n",
      "%logon:\n",
      "    Restart logging.\n",
      "%logstart:\n",
      "    Start logging anywhere in a session.\n",
      "%logstate:\n",
      "    Print the status of the logging system.\n",
      "%logstop:\n",
      "    Fully stop logging and close log file.\n",
      "%ls:\n",
      "    Alias for `!ls -F --color`\n",
      "%lsmagic:\n",
      "    List currently available magic functions.\n",
      "%lx:\n",
      "    Alias for `!ls -F -o --color %l | grep ^-..x`\n",
      "%macro:\n",
      "    Define a macro for future re-execution. It accepts ranges of history,\n",
      "%magic:\n",
      "    Print information about the magic function system.\n",
      "%man:\n",
      "    Find the man page for the given command and display in pager.\n",
      "%matplotlib:\n",
      "    ::\n",
      "%mkdir:\n",
      "    Alias for `!mkdir`\n",
      "%more:\n",
      "    Show a file through the pager.\n",
      "%mv:\n",
      "    Alias for `!mv`\n",
      "%notebook:\n",
      "    ::\n",
      "%page:\n",
      "    Pretty print the object and display it through a pager.\n",
      "%pastebin:\n",
      "    Upload code to dpaste.com, returning the URL.\n",
      "%pdb:\n",
      "    Control the automatic calling of the pdb interactive debugger.\n",
      "%pdef:\n",
      "    Print the call signature for any callable object.\n",
      "%pdoc:\n",
      "    Print the docstring for an object.\n",
      "%pfile:\n",
      "    Print (or run through pager) the file where an object is defined.\n",
      "%pinfo:\n",
      "    Provide detailed information about an object.\n",
      "%pinfo2:\n",
      "    Provide extra detailed information about an object.\n",
      "%pip:\n",
      "    Run the pip package manager within the current kernel.\n",
      "%popd:\n",
      "    Change to directory popped off the top of the stack.\n",
      "%pprint:\n",
      "    Toggle pretty printing on/off.\n",
      "%precision:\n",
      "    Set floating point precision for pretty printing.\n",
      "%prun:\n",
      "    Run a statement through the python code profiler.\n",
      "%psearch:\n",
      "    Search for object in namespaces by wildcard.\n",
      "%psource:\n",
      "    Print (or run through pager) the source code for an object.\n",
      "%pushd:\n",
      "    Place the current dir on stack and change directory.\n",
      "%pwd:\n",
      "    Return the current working directory path.\n",
      "%pycat:\n",
      "    Show a syntax-highlighted file through a pager.\n",
      "%pylab:\n",
      "    ::\n",
      "%qtconsole:\n",
      "    Open a qtconsole connected to this kernel.\n",
      "%quickref:\n",
      "    Show a quick reference sheet \n",
      "%recall:\n",
      "    Repeat a command, or get command to input line for editing.\n",
      "%rehashx:\n",
      "    Update the alias table with all executable files in $PATH.\n",
      "%reload_ext:\n",
      "    Reload an IPython extension by its module name.\n",
      "%rep:\n",
      "    Alias for `%recall`.\n",
      "%rerun:\n",
      "    Re-run previous input\n",
      "%reset:\n",
      "    Resets the namespace by removing all names defined by the user, if\n",
      "%reset_selective:\n",
      "    Resets the namespace by removing names defined by the user.\n",
      "%rm:\n",
      "    Alias for `!rm`\n",
      "%rmdir:\n",
      "    Alias for `!rmdir`\n",
      "%run:\n",
      "    Run the named file inside IPython as a program.\n",
      "%save:\n",
      "    Save a set of lines or a macro to a given filename.\n",
      "%sc:\n",
      "    Shell capture - run shell command and capture output (DEPRECATED use !).\n",
      "%set_env:\n",
      "    Set environment variables.  Assumptions are that either \"val\" is a\n",
      "%store:\n",
      "    Lightweight persistence for python variables.\n",
      "%sx:\n",
      "    Shell execute - run shell command and capture output (!! is short-hand).\n",
      "%system:\n",
      "    Shell execute - run shell command and capture output (!! is short-hand).\n",
      "%tb:\n",
      "    Print the last traceback.\n",
      "%time:\n",
      "    Time execution of a Python statement or expression.\n",
      "%timeit:\n",
      "    Time execution of a Python statement or expression\n",
      "%unalias:\n",
      "    Remove an alias\n",
      "%unload_ext:\n",
      "    Unload an IPython extension by its module name.\n",
      "%who:\n",
      "    Print all interactive variables, with some minimal formatting.\n",
      "%who_ls:\n",
      "    Return a sorted list of all interactive variables.\n",
      "%whos:\n",
      "    Like %who, but gives some extra information about each variable.\n",
      "%xdel:\n",
      "    Delete a variable, trying to clear it from anywhere that\n",
      "%xmode:\n",
      "    Switch modes for the exception handlers.\n",
      "%%!:\n",
      "    Shell execute - run shell command and capture output (!! is short-hand).\n",
      "%%HTML:\n",
      "    Alias for `%%html`.\n",
      "%%SVG:\n",
      "    Alias for `%%svg`.\n",
      "%%bash:\n",
      "    %%bash script magic\n",
      "%%capture:\n",
      "    ::\n",
      "%%debug:\n",
      "    ::\n",
      "%%file:\n",
      "    Alias for `%%writefile`.\n",
      "%%html:\n",
      "    ::\n",
      "%%javascript:\n",
      "    Run the cell block of Javascript code\n",
      "%%js:\n",
      "    Run the cell block of Javascript code\n",
      "%%latex:\n",
      "    Render the cell as a block of LaTeX\n",
      "%%markdown:\n",
      "    Render the cell as Markdown text block\n",
      "%%perl:\n",
      "    %%perl script magic\n",
      "%%prun:\n",
      "    Run a statement through the python code profiler.\n",
      "%%pypy:\n",
      "    %%pypy script magic\n",
      "%%python:\n",
      "    %%python script magic\n",
      "%%python2:\n",
      "    %%python2 script magic\n",
      "%%python3:\n",
      "    %%python3 script magic\n",
      "%%ruby:\n",
      "    %%ruby script magic\n",
      "%%script:\n",
      "    ::\n",
      "%%sh:\n",
      "    %%sh script magic\n",
      "%%svg:\n",
      "    Render the cell as an SVG literal\n",
      "%%sx:\n",
      "    Shell execute - run shell command and capture output (!! is short-hand).\n",
      "%%system:\n",
      "    Shell execute - run shell command and capture output (!! is short-hand).\n",
      "%%time:\n",
      "    Time execution of a Python statement or expression.\n",
      "%%timeit:\n",
      "    Time execution of a Python statement or expression\n",
      "%%writefile:\n",
      "    ::\n"
     ]
    }
   ],
   "source": [
    "%quickref"
   ]
  },
  {
   "cell_type": "code",
   "execution_count": null,
   "metadata": {
    "vscode": {
     "languageId": "shellscript"
    }
   },
   "outputs": [],
   "source": []
  },
  {
   "cell_type": "code",
   "execution_count": null,
   "metadata": {
    "vscode": {
     "languageId": "shellscript"
    }
   },
   "outputs": [],
   "source": [
    "import matplotlib.pyplot as plt\n",
    "import numpy as np\n",
    "%matplotlib inline\n",
    "a = np.linspace(0,1,5)\n",
    "b = np.linspace(1,2,5)\n",
    "plt.scatter(a,b)"
   ]
  },
  {
   "cell_type": "markdown",
   "metadata": {},
   "source": []
  },
  {
   "cell_type": "markdown",
   "metadata": {},
   "source": [
    "```bash\n",
    "pip install ipympl\n",
    "```"
   ]
  },
  {
   "cell_type": "code",
   "execution_count": 3,
   "metadata": {
    "vscode": {
     "languageId": "shellscript"
    }
   },
   "outputs": [],
   "source": [
    "import matplotlib.pyplot as plt\n",
    "import pandas as pd\n",
    "%matplotlib widget"
   ]
  },
  {
   "cell_type": "code",
   "execution_count": 4,
   "metadata": {
    "vscode": {
     "languageId": "shellscript"
    }
   },
   "outputs": [
    {
     "data": {
      "text/plain": [
       "<matplotlib.collections.PathCollection at 0x7f58ed45dde0>"
      ]
     },
     "execution_count": 4,
     "metadata": {},
     "output_type": "execute_result"
    },
    {
     "data": {
      "application/vnd.jupyter.widget-view+json": {
       "model_id": "a1fe671bd86b43c2acf3046d9e595e96",
       "version_major": 2,
       "version_minor": 0
      },
      "image/png": "[encoded data removed]",
      "text/html": [
       "\n",
       "            <div style=\"display: inline-block;\">\n",
       "                <div class=\"jupyter-widgets widget-label\" style=\"text-align: center;\">\n",
       "                    Figure\n",
       "                </div>\n",
       "                <img src='data:image/png;base64,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' width=640.0/>\n",
       "            </div>\n",
       "        "
      ],
      "text/plain": [
       "Canvas(toolbar=Toolbar(toolitems=[('Home', 'Reset original view', 'home', 'home'), ('Back', 'Back to previous …"
      ]
     },
     "metadata": {},
     "output_type": "display_data"
    }
   ],
   "source": [
    "iris = pd.read_csv('https://raw.githubusercontent.com/mwaskom/seaborn-data/master/iris.csv')\n",
    "plt.scatter('sepal_length', 'petal_width', data=iris)"
   ]
  },
  {
   "cell_type": "markdown",
   "metadata": {},
   "source": [
    "### Débugger avec ipython"
   ]
  },
  {
   "cell_type": "code",
   "execution_count": null,
   "metadata": {
    "vscode": {
     "languageId": "shellscript"
    }
   },
   "outputs": [],
   "source": [
    "Utilisez breakpoint() pour mettre un point d'arrêt dans votre code"
   ]
  }
 ],
 "metadata": {
  "kernelspec": {
   "display_name": "Python 3.10.4 64-bit ('3.10.4')",
   "language": "python",
   "name": "python3"
  },
  "language_info": {
   "codemirror_mode": {
    "name": "ipython",
    "version": 3
   },
   "file_extension": ".py",
   "mimetype": "text/x-python",
   "name": "python",
   "nbconvert_exporter": "python",
   "pygments_lexer": "ipython3",
   "version": "3.10.4"
  },
  "orig_nbformat": 4,
  "vscode": {
   "interpreter": {
    "hash": "6127d1fbbe37185a7da7e4da2c9f92f5859708dc5f2c34fc7e63ce95aa67320b"
   }
  }
 },
 "nbformat": 4,
 "nbformat_minor": 2
}
